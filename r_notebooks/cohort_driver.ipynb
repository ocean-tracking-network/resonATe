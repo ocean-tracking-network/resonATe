{
 "cells": [
  {
   "cell_type": "code",
   "execution_count": null,
   "metadata": {},
   "outputs": [],
   "source": [
    "################ Libraries ###################\n",
    "source(\"../common_r/load_cohort_script.r\") # Load conversion function\n",
    "\n",
    "################ User Input ################\n",
    "time_interval <- 60\n",
    "# compressed file created from running the interval data or the compression tool.\n",
    "compressed_file <- 'compressed_detections.csv' \n",
    "\n",
    "################ Create cohort file ################\n",
    "cohort_records( time_interval, compressed_file )"
   ]
  },
  {
   "cell_type": "code",
   "execution_count": null,
   "metadata": {},
   "outputs": [],
   "source": [
    ""
   ]
  }
 ],
 "metadata": {
  "kernelspec": {
   "display_name": "R",
   "language": "R",
   "name": "ir"
  },
  "language_info": {
   "codemirror_mode": "r",
   "file_extension": ".r",
   "mimetype": "text/x-r-source",
   "name": "R",
   "pygments_lexer": "r",
   "version": "3.2.1"
  }
 },
 "nbformat": 4,
 "nbformat_minor": 0
}
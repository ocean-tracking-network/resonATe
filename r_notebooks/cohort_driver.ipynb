{
 "cells": [
  {
   "cell_type": "code",
   "execution_count": null,
   "metadata": {
    "collapsed": false
   },
   "outputs": [],
   "source": [
    "################ Libraries ###################\n",
    "source(\"../common_r/load_cohort_script.r\") # Load conversion function\n",
    "\n",
    "################ User Input ################\n",
    "time_interval <- 6\n",
    "# compressed file created from running the interval data or the compression tool.\n",
    "compressed_file <- 'compressed_detections.csv' \n",
    "\n",
    "################ Create cohort file ################\n",
    "cohort_records( time_interval, compressed_file )"
   ]
  }
 ],
 "metadata": {
  "kernelspec": {
   "display_name": "R",
   "language": "R",
   "name": "ir"
  },
  "language_info": {
   "codemirror_mode": "r",
   "file_extension": ".r",
   "mimetype": "text/x-r-source",
   "name": "R",
   "pygments_lexer": "r",
   "version": "3.3.0"
  }
 },
 "nbformat": 4,
 "nbformat_minor": 0
}

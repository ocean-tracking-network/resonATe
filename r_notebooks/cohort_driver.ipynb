{
 "cells": [
  {
   "cell_type": "code",
   "execution_count": 1,
   "metadata": {
    "collapsed": false
   },
   "outputs": [
    {
     "name": "stdout",
     "output_type": "stream",
     "text": [
      "[1] \"Verifying compressed detections file: 'acs_matched_detections_2012_compressed_detections_v00.csv'... OK!\"\n",
      "[1] \"Loading records into compressed_data_temp, Please wait...\"\n",
      "[1] \"Cohort records successfully exported to: acs_matched_detections_2012_compressed_detections_v00_cohort_6min.csv with 2365 records.\"\n"
     ]
    }
   ],
   "source": [
    "################ Libraries ###################\n",
    "source(\"../common_r/load_cohort_script.r\") # Load conversion function\n",
    "\n",
    "################ User Input ################\n",
    "time_interval <- 6\n",
    "# compressed file created from running the interval data or the compression tool.\n",
    "compressed_file <- 'acs_matched_detections_2012_compressed_detections_v00.csv' \n",
    "\n",
    "################ Create cohort file ################\n",
    "cohort_records( time_interval, compressed_file )"
   ]
  },
  {
   "cell_type": "code",
   "execution_count": null,
   "metadata": {
    "collapsed": true
   },
   "outputs": [],
   "source": []
  }
 ],
 "metadata": {
  "kernelspec": {
   "display_name": "R",
   "language": "R",
   "name": "ir"
  },
  "language_info": {
   "codemirror_mode": "r",
   "file_extension": ".r",
   "mimetype": "text/x-r-source",
   "name": "R",
   "pygments_lexer": "r",
   "version": "3.3.0"
  }
 },
 "nbformat": 4,
 "nbformat_minor": 0
}

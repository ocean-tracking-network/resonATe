{
 "cells": [
  {
   "cell_type": "code",
   "execution_count": 1,
   "metadata": {},
   "outputs": [],
   "source": [
    "################ Libraries ###################\n",
    "source(\"../common_r/load_conversion_script.r\") # Load conversion function\n",
    "\n",
    "################ User Input ################\n",
    "input_file <- 'detections.csv' # used by convert_file() function\n",
    "\n",
    "################ Convert input_file into UTF8 ################\n",
    "convert_file( input_file ) # converts the input_file to utf8"
   ]
  },
  {
   "cell_type": "code",
   "execution_count": null,
   "metadata": {},
   "outputs": [],
   "source": [
    ""
   ]
  }
 ],
 "metadata": {
  "kernelspec": {
   "display_name": "R",
   "language": "R",
   "name": "ir"
  },
  "language_info": {
   "codemirror_mode": "r",
   "file_extension": ".r",
   "mimetype": "text/x-r-source",
   "name": "R",
   "pygments_lexer": "r",
   "version": "3.2.1"
  }
 },
 "nbformat": 4,
 "nbformat_minor": 0
}
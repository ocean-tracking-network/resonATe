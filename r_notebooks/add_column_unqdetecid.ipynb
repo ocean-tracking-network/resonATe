{
 "cells": [
  {
   "cell_type": "code",
   "execution_count": 2,
   "metadata": {
    "collapsed": false
   },
   "outputs": [
    {
     "name": "stdout",
     "output_type": "stream",
     "text": [
      "[1] \"Verifying input_file file: 'detections.csv'... OK!\"\n",
      "[1] \"Creating file 'detections_unqid.csv'... OK!\"\n"
     ]
    }
   ],
   "source": [
    "################ Libraries ###################\n",
    "#set current working directory\n",
    "\n",
    "source(\"../common_r/load_add_unqdetecid.r\")\n",
    "\n",
    "################ User Input ################\n",
    "input_file <- 'detections.csv'# Input file, must not contain the unqdetecid column.\n",
    "\n",
    "################ Create file with unqdetecid ################\n",
    "add_column_unqdetecid(input_file)"
   ]
  },
  {
   "cell_type": "code",
   "execution_count": null,
   "metadata": {
    "collapsed": true
   },
   "outputs": [],
   "source": []
  }
 ],
 "metadata": {
  "kernelspec": {
   "display_name": "R",
   "language": "R",
   "name": "ir"
  },
  "language_info": {
   "codemirror_mode": "r",
   "file_extension": ".r",
   "mimetype": "text/x-r-source",
   "name": "R",
   "pygments_lexer": "r",
   "version": "3.3.0"
  }
 },
 "nbformat": 4,
 "nbformat_minor": 0
}

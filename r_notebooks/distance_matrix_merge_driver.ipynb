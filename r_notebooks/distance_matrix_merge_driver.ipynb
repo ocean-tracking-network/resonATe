{
 "cells": [
  {
   "cell_type": "code",
   "execution_count": 1,
   "metadata": {
    "collapsed": false
   },
   "outputs": [
    {
     "name": "stdout",
     "output_type": "stream",
     "text": [
      "[1] \"Verifying distance matrix file: 'acs_matched_detections_2012_distance_matrix_v00.csv'... OK!\"\n",
      "[1] \"Verifying distance real file: 'acs_matched_detections_2012_distance_matrix_v01.csv'... OK!\"\n",
      "[1] \"There are 3 records updated in file acs_matched_detections_2012_distance_matrix_v00_merged.csv\"\n",
      "[1] \"Updates complete.\"\n"
     ]
    }
   ],
   "source": [
    "################ Libraries ###################\n",
    "#set current working directory\n",
    "\n",
    "source(\"../common_r/load_dis_merge_python.r\")\n",
    "\n",
    "################ User Input ################\n",
    "reqcode <- 'reqmerge' #request code for merge two station matrix files\n",
    "distance_matrix_input <-   'acs_matched_detections_2012_distance_matrix_v00.csv' # first file will be the full file\n",
    "distance_real_input <- 'acs_matched_detections_2012_distance_matrix_v01.csv' # second file is a set of distances which are to be used to override the distances on the first file\n",
    "\n",
    "################ Function Merge Real_distance for Station Matrix ################\n",
    "# load two detections files\n",
    "# Merger real_distance in file 1 from file 2\n",
    "\n",
    "loadDistanceMerge(reqcode, distance_matrix_input, distance_real_input)"
   ]
  },
  {
   "cell_type": "code",
   "execution_count": null,
   "metadata": {
    "collapsed": true
   },
   "outputs": [],
   "source": []
  }
 ],
 "metadata": {
  "kernelspec": {
   "display_name": "R",
   "language": "R",
   "name": "ir"
  },
  "language_info": {
   "codemirror_mode": "r",
   "file_extension": ".r",
   "mimetype": "text/x-r-source",
   "name": "R",
   "pygments_lexer": "r",
   "version": "3.3.0"
  }
 },
 "nbformat": 4,
 "nbformat_minor": 0
}

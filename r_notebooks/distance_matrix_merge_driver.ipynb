{
 "cells": [
  {
   "cell_type": "code",
   "execution_count": null,
   "metadata": {
    "collapsed": false
   },
   "outputs": [],
   "source": [
    "################ Libraries ###################\n",
    "#set current working directory\n",
    "\n",
    "source(\"../common_r/load_dis_merge_python.r\")\n",
    "\n",
    "################ User Input ################\n",
    "reqcode <- 'reqmerge' #request code for merge two station matrix files\n",
    "distance_matrix_input <-   'matrix.csv' # first file will be the full file\n",
    "distance_real_input <- 'matrix_update.csv' # second file is a set of distances which are to be used to override the distances on the first file\n",
    "\n",
    "################ Function Merge Real_distance for Station Matrix ################\n",
    "# load two detections files\n",
    "# Merger real_distance in file 1 from file 2\n",
    "\n",
    "loadDistanceMerge(reqcode, distance_matrix_input, distance_real_input)"
   ]
  }
 ],
 "metadata": {
  "kernelspec": {
   "display_name": "R",
   "language": "R",
   "name": "ir"
  },
  "language_info": {
   "codemirror_mode": "r",
   "file_extension": ".r",
   "mimetype": "text/x-r-source",
   "name": "R",
   "pygments_lexer": "r",
   "version": "3.3.0"
  }
 },
 "nbformat": 4,
 "nbformat_minor": 0
}

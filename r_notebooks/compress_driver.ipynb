{
 "cells": [
  {
   "cell_type": "code",
   "execution_count": 1,
   "metadata": {
    "collapsed": false
   },
   "outputs": [
    {
     "name": "stdout",
     "output_type": "stream",
     "text": [
      "[1] \"Verifying detection file: 'acs_matched_detections_2012.csv'... OK!\"\n",
      "[1] \"Loading records into acs_matched_detections_2012_v00, Please wait...\"\n",
      "[1] \"Creating geometry column for st_setsrid_4326, identified as WKB\"\n",
      "[1] \"Populating geometry column with ST_GeomFromEWKB\"\n",
      "[1] \"File loaded successfully! Detection Count: 90331\"\n",
      "[1] \"Loading complete. Created/populated 1 tables\"\n",
      "[1] \"Using acs_matched_detections_2012_v00 table with 90331 records for compression. Please Wait...\"\n",
      "[1] \"Table acs_matched_detections_2012_v00 compressed in table mv_anm_compressed with 7814 records.\"\n",
      "[1] \"Compressed detection file exported to: acs_matched_detections_2012_compressed_detections_v00.csv.\"\n"
     ]
    }
   ],
   "source": [
    "################ Libraries ###################\n",
    "source(\"../common_r/load_compression_script.r\") # Load conversion function\n",
    "\n",
    "################ User Input ################\n",
    "detection_file <- 'acs_matched_detections_2012.csv'\n",
    "\n",
    "################ Create compression file ################\n",
    "compress_detections( detection_file)"
   ]
  },
  {
   "cell_type": "code",
   "execution_count": null,
   "metadata": {
    "collapsed": true
   },
   "outputs": [],
   "source": []
  }
 ],
 "metadata": {
  "kernelspec": {
   "display_name": "R",
   "language": "R",
   "name": "ir"
  },
  "language_info": {
   "codemirror_mode": "r",
   "file_extension": ".r",
   "mimetype": "text/x-r-source",
   "name": "R",
   "pygments_lexer": "r",
   "version": "3.3.0"
  }
 },
 "nbformat": 4,
 "nbformat_minor": 0
}

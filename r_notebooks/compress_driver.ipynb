{
 "cells": [
  {
   "cell_type": "code",
   "execution_count": null,
   "metadata": {
    "collapsed": false
   },
   "outputs": [],
   "source": [
    "################ Libraries ###################\n",
    "source(\"../common_r/load_compression_script.r\") # Load conversion function\n",
    "\n",
    "################ User Input ################\n",
    "detection_file <- 'detections.csv'\n",
    "\n",
    "################ Create compression file ################\n",
    "compress_detections( detection_file)"
   ]
  }
 ],
 "metadata": {
  "kernelspec": {
   "display_name": "R",
   "language": "R",
   "name": "ir"
  },
  "language_info": {
   "codemirror_mode": "r",
   "file_extension": ".r",
   "mimetype": "text/x-r-source",
   "name": "R",
   "pygments_lexer": "r",
   "version": "3.3.0"
  }
 },
 "nbformat": 4,
 "nbformat_minor": 0
}

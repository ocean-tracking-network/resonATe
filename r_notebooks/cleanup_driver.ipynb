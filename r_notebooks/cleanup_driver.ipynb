{
 "cells": [
  {
   "cell_type": "code",
   "execution_count": 1,
   "metadata": {
    "collapsed": false
   },
   "outputs": [
    {
     "name": "stdout",
     "output_type": "stream",
     "text": [
      "[1] \"Nothing to cleanup from database.\"\n"
     ]
    }
   ],
   "source": [
    "################ Libraries ###################\n",
    "source(\"../common_r/load_cleanup_script.r\") # Load cleanup function\n",
    "\n",
    "################ Cleanup Functions ################\n",
    "# This function will cleanup all the tables created in the database for processing various functions.\n",
    "cleanup() # Run cleanup function"
   ]
  },
  {
   "cell_type": "code",
   "execution_count": null,
   "metadata": {
    "collapsed": true
   },
   "outputs": [],
   "source": []
  }
 ],
 "metadata": {
  "kernelspec": {
   "display_name": "R",
   "language": "R",
   "name": "ir"
  },
  "language_info": {
   "codemirror_mode": "r",
   "file_extension": ".r",
   "mimetype": "text/x-r-source",
   "name": "R",
   "pygments_lexer": "r",
   "version": "3.3.0"
  }
 },
 "nbformat": 4,
 "nbformat_minor": 0
}

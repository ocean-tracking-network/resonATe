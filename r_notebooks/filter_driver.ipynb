{
 "cells": [
  {
   "cell_type": "code",
   "execution_count": 3,
   "metadata": {
    "collapsed": true
   },
   "outputs": [],
   "source": [
    "################ Libraries ###################\n",
    "source(\"../common_r/load_python_scripts.r\")\n",
    "\n",
    "############### Switches ################\n",
    "SuspectDetections  <- TRUE  # used by function loadDetections()\n",
    "                     #TRUE will create list of suspect detections\n",
    "                     #FALSE will not create a new file of suspect detections\n",
    "DistanceMatrix  <- TRUE # used by functions loadDetections() and filterDetections()\n",
    "                  #TRUE will create distance matrix\n",
    "                  #FALSE will not create a new distance matrix file\n",
    "OverrideSuspectDetectionFile <- FALSE # used by function filterDetections()\n",
    "                               #FALSE will use the default file of suspect detections created from the loadDetections() step\n",
    "                               #TRUE will use override file of suspect detections that you provide\n",
    "ReloadInputFile <- FALSE    # used by function loadDetections()\n",
    "                  #TRUE will always reload input detection file\n",
    "                  #FALSE will use already loaded input detection file\n",
    "\n",
    "\n",
    "################ User Input ################\n",
    "detection_file   <- 'acs_matched_detections_2012.csv' #Detection file input name\n",
    "input_version_id <- '00'             #Version ID number [0 for initial(first) load]\n",
    "time_interval    <- '60'             #Time interval used to evaluate suspect detections (in minutes)\n",
    "\n",
    "detection_radius <- ''               # Average Distance from receviers, in meters, tags can be detected\n",
    "# There will be an opportunity later to change values for individual stations\n",
    "# If entered: Value must be between 0 and 999"
   ]
  },
  {
   "cell_type": "markdown",
   "metadata": {},
   "source": [
    "### Detection Processing Functions"
   ]
  },
  {
   "cell_type": "code",
   "execution_count": 2,
   "metadata": {
    "collapsed": false
   },
   "outputs": [
    {
     "name": "stdout",
     "output_type": "stream",
     "text": [
      "[1] \"Table \\\"acs_matched_detections_2012_v00\\\" already loaded with 90331 records.\"\n",
      "[1] \"Processing detection summary on table acs_matched_detections_2012_v00 using the time interval: 60 minute(s)\"\n",
      "[1] \"Detection summary exported to: /home/vagrant/data/acs_matched_detections_2012_suspect_v00.csv\"\n",
      "[1] \"There are 1224 suspect detections\"\n",
      "[1] \"Station distance matrix exported to: /home/vagrant/data/acs_matched_detections_2012_distance_matrix_v00.csv\"\n",
      "[1] \"There are 171 station matrix pairs\"\n",
      "[1] \"Loading complete. Created/populated 2 tables\"\n"
     ]
    }
   ],
   "source": [
    "################ Function Find Suspect Detections ################\n",
    "#loads the detection input file into a database and optionally creates the suspect detection file and station distance matrix file\n",
    "#To save time input file will not be reloaded if version id does not change. If your initial file has changed you need to rename it to get it to load\n",
    "\n",
    "loadDetections() #message \"loading complete\" will appear when process is done"
   ]
  },
  {
   "cell_type": "code",
   "execution_count": 5,
   "metadata": {
    "collapsed": false
   },
   "outputs": [
    {
     "name": "stdout",
     "output_type": "stream",
     "text": [
      "[1] \"using Suspect True custom.csv\"\n",
      "[1] \"Using suspect detection file: /home/vagrant/data/custom.csv\"\n",
      "[1] \"file \\\"acs_matched_detections_2012.csv\\\" already loaded with 90331 records.\"\n",
      "[1] \"Loading records into suspects, Please wait...\"\n",
      "[1] \"Dropping existing table acs_matched_detections_2012_v01\"\n",
      "[1] \"1224 suspect detections removed\"\n",
      "[1] \"Total detections in output file: 89107\"\n",
      "[1] \"Detection file saved to: (/home/vagrant/data/acs_matched_detections_2012_v01.csv)\"\n",
      "[1] \"Station distance matrix exported to: /home/vagrant/data/acs_matched_detections_2012_distance_matrix_v01.csv\"\n",
      "[1] \"There are 169 station matrix pairs\"\n"
     ]
    }
   ],
   "source": [
    "################  Function Filter Detections  ################\n",
    "#returns a new detections file without the suspected detections which will have version id incremented\n",
    "#uses as input file of detections and file of suspect detections creating in previous step\n",
    "#will create a new distance matrix with version id incremented (if distance_matrix is set to TRUE)\n",
    "\n",
    "if (OverrideSuspectDetectionFile == TRUE) {\n",
    "  SuspectFile <- 'your override file name here.csv'\n",
    "}\n",
    "filterDetections() #message \"filtering complete\" will appear when process is done"
   ]
  },
  {
   "cell_type": "code",
   "execution_count": null,
   "metadata": {
    "collapsed": true
   },
   "outputs": [],
   "source": []
  }
 ],
 "metadata": {
  "kernelspec": {
   "display_name": "R",
   "language": "R",
   "name": "ir"
  },
  "language_info": {
   "codemirror_mode": "r",
   "file_extension": ".r",
   "mimetype": "text/x-r-source",
   "name": "R",
   "pygments_lexer": "r",
   "version": "3.3.0"
  }
 },
 "nbformat": 4,
 "nbformat_minor": 0
}

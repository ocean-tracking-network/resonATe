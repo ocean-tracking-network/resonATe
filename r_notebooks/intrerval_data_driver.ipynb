{
 "cells": [
  {
   "cell_type": "code",
   "execution_count": null,
   "metadata": {},
   "outputs": [],
   "source": [
    "################ Libraries ###################\n",
    "source(\"../common_r/load_interval_python.r\")\n",
    "\n",
    "################ User Input ################\n",
    "detection_file <- 'detections.csv' #Detection file input name\n",
    "distance_matrix <-'detections_distance_matrix_v00.csv' #Distance matrix file input name\n",
    "\n",
    "################ Interval Processing Functions ################\n",
    "intervalData() #Creates the compressed detections and interval data files"
   ]
  },
  {
   "cell_type": "code",
   "execution_count": null,
   "metadata": {},
   "outputs": [],
   "source": [
    ""
   ]
  }
 ],
 "metadata": {
  "kernelspec": {
   "display_name": "R",
   "language": "R",
   "name": "ir"
  },
  "language_info": {
   "codemirror_mode": "r",
   "file_extension": ".r",
   "mimetype": "text/x-r-source",
   "name": "R",
   "pygments_lexer": "r",
   "version": "3.2.1"
  }
 },
 "nbformat": 4,
 "nbformat_minor": 0
}
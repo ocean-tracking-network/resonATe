{
 "cells": [
  {
   "cell_type": "code",
   "execution_count": 1,
   "metadata": {
    "collapsed": false
   },
   "outputs": [
    {
     "name": "stdout",
     "output_type": "stream",
     "text": [
      "[1] \"Verifying Detection file: 'acs_matched_detections_2012.csv'... OK!\"\n",
      "[1] \"Verifying Distance Matrix file: 'acs_matched_detections_2012_distance_matrix_v00.csv'... OK!\"\n",
      "[1] \"Loading Detection file: 'acs_matched_detections_2012.csv'... OK!\"\n",
      "[1] \"Loading Distance Matrix file: 'acs_matched_detections_2012_distance_matrix_v00.csv'... OK!\"\n",
      "[1] \"Exporting data...\"\n",
      "[1] \"OK!\"\n",
      "[1] \"Compressed detections exported to: acs_matched_detections_2012_compressed_detections_v00.csv containing 7814 records.\"\n",
      "[1] \"Interval data exported to: acs_matched_detections_2012_interval_data_v00.csv containing 7814 records.\"\n"
     ]
    }
   ],
   "source": [
    "################ Libraries ###################\n",
    "source(\"../common_r/load_interval_python.r\")\n",
    "\n",
    "################ User Input ################\n",
    "detection_file <- 'acs_matched_detections_2012.csv' #Detection file input name\n",
    "distance_matrix <-'acs_matched_detections_2012_distance_matrix_v00.csv' #Distance matrix file input name\n",
    "\n",
    "################ Interval Processing Functions ################\n",
    "intervalData() #Creates the compressed detections and interval data files"
   ]
  },
  {
   "cell_type": "code",
   "execution_count": null,
   "metadata": {
    "collapsed": true
   },
   "outputs": [],
   "source": []
  }
 ],
 "metadata": {
  "kernelspec": {
   "display_name": "R",
   "language": "R",
   "name": "ir"
  },
  "language_info": {
   "codemirror_mode": "r",
   "file_extension": ".r",
   "mimetype": "text/x-r-source",
   "name": "R",
   "pygments_lexer": "r",
   "version": "3.3.0"
  }
 },
 "nbformat": 4,
 "nbformat_minor": 0
}

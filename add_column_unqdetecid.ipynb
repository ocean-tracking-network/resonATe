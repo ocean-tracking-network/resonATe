{
 "cells": [
  {
   "cell_type": "code",
   "execution_count": null,
   "metadata": {
    "collapsed": true
   },
   "outputs": [],
   "source": [
    "################ Libraries ###################\n",
    "#set current working directory\n",
    "\n",
    "source(\"common_r/load_add_unqdetecid.r\")\n",
    "\n",
    "################ User Input ################\n",
    "input_file <- 'example_detections.csv'# Input file, must not contain the unqdetecid column.\n",
    "\n",
    "################ Create file with unqdetecid ################\n",
    "add_column_unqdetecid(input_file)"
   ]
  }
 ],
 "metadata": {
  "kernelspec": {
   "display_name": "R",
   "language": "R",
   "name": "ir"
  },
  "language_info": {
   "codemirror_mode": "r",
   "file_extension": ".r",
   "mimetype": "text/x-r-source",
   "name": "R",
   "pygments_lexer": "r",
   "version": "3.2.1"
  }
 },
 "nbformat": 4,
 "nbformat_minor": 0
}

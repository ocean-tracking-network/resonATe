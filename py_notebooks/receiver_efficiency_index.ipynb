{
 "cells": [
  {
   "cell_type": "markdown",
   "metadata": {},
   "source": [
    "# Receiver Efficiency Index\n",
    "\n",
    "The receiver efficiency index is number between ``0`` and ``1`` indicating the amount of relative activity at each receiver compared to the entire set of receivers, regardless of positioning. \n",
    "The function takes a set detections and a deployment history of the receivers to create a context for the detections. Both the amount of unique tags and number of species are taken into \n",
    "consideration in the calculation.\n",
    "\n",
    "The receiver efficiency index implement is implemented based on the paper [Acoustic telemetry array evolution: From species- and project-specific designs to large-scale, multispecies, cooperative networks](https://doi.org/10.1016/j.fishres.2018.09.015). Each receiver's index is calculated on the formula of:\n",
    "\n",
    "\n",
    "<br/>\n",
    "\n",
    "<div class=\"large-math\">\n",
    "    \n",
    "REI = $\\frac{T_r}{T_a} \\times \\frac{S_r}{S_a} \\times \\frac{DD_r}{DD_a} \\times \\frac{D_a}{D_r}$\n",
    "\n",
    "</div>\n",
    "\n",
    "<hr/>\n",
    "\n",
    "* REI = Receiver Efficiency Index\n",
    "* $T_r$ = The number of tags detected on the receievr\n",
    "* $T_a$ = The number of tags detected across all receivers\n",
    "* $S_r$ = The number of species detected on the receiver\n",
    "* $S_a$ = The number of species detected across all receivers\n",
    "* $DD_a$ = The number of unique days with detections across all receivers\n",
    "* $DD_r$ = The number of unique days with detections on the receiver\n",
    "* $D_a$ = The number of days the array was active\n",
    "* $D_r$ = The number of days the receiver was active\n",
    "\n",
    "\n",
    "Each REI is then normalized against the sum of all considered stations. The result is a number between ``0`` and ``1`` indicating the relative amount of activity at each receiver. \n",
    "\n",
    "\n",
    "<span style=\"color:red\">Warning:</span>\n",
    "\n",
    "    Detection input files must include ``datecollected``, ``fieldnumber``, ``station``, and ``scientificname`` as columns and deployment input files must include ``station_name``, ``deploy_date``, ``last_download``, and ``recovery_date`` as columns.\n",
    "    \n",
    "``REI()`` takes two arguments. The first is a dataframe of detections the detection timstamp, the station identifier, the species, and the tag identifier. The next is a dataframe of deployments for each station. The station name should match the stations in the detections. The deployments need to include a deployment date and recovery date or last download date. Details on the columns metnioned see the preparing data section.\n",
    "\n",
    "<span style=\"color:red\">Warning:</span>\n",
    "\n",
    "    This function assumes that no deployments for single station overlap. If deployments do overlap, the overlapping days will be counted twice."
   ]
  },
  {
   "cell_type": "code",
   "execution_count": null,
   "metadata": {},
   "outputs": [],
   "source": [
    "from resonate.receiver_efficiency import REI\n",
    "\n",
    "detections = pd.read_csv('/path/to/detections.csv')\n",
    "deployments = pd.read_csv('/path/to/deployments.csv')\n",
    "\n",
    "station_REIs = REI(detections = detections, deployments = deployments)"
   ]
  }
 ],
 "metadata": {
  "anaconda-cloud": {},
  "kernelspec": {
   "display_name": "Python 3",
   "language": "python",
   "name": "python3"
  },
  "language_info": {
   "codemirror_mode": {
    "name": "ipython",
    "version": 3
   },
   "file_extension": ".py",
   "mimetype": "text/x-python",
   "name": "python",
   "nbconvert_exporter": "python",
   "pygments_lexer": "ipython3",
   "version": "3.7.2"
  },
  "varInspector": {
   "cols": {
    "lenName": 16,
    "lenType": 16,
    "lenVar": 40
   },
   "kernels_config": {
    "python": {
     "delete_cmd_postfix": "",
     "delete_cmd_prefix": "del ",
     "library": "var_list.py",
     "varRefreshCmd": "print(var_dic_list())"
    },
    "r": {
     "delete_cmd_postfix": ") ",
     "delete_cmd_prefix": "rm(",
     "library": "var_list.r",
     "varRefreshCmd": "cat(var_dic_list()) "
    }
   },
   "types_to_exclude": [
    "module",
    "function",
    "builtin_function_or_method",
    "instance",
    "_Feature"
   ],
   "window_display": false
  }
 },
 "nbformat": 4,
 "nbformat_minor": 2
}

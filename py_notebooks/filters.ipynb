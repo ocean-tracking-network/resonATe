{
 "cells": [
  {
   "cell_type": "markdown",
   "metadata": {},
   "source": [
    "# Filtering Detections on Distance / Time\n",
    "\n",
    "\n",
    "## White/Mihoff Filter\n",
    "\n",
    "*(White, E., Mihoff, M., Jones, B., Bajona, L., Halfyard, E. 2014. White-Mihoff False Filtering Tool)*\n",
    "\n",
    "OTN has developed a tool which will assist with filtering false detections. The first level of filtering involves identifying isolated detections. The original concept came from work done by Easton White. He was kind enough to share his research database with OTN. We did some preliminary research and developed a proposal for a filtering tool based on what Easton had done. This proof of concept was presented to Steve Kessel and Eddie Halfyard in December 2013 and a decision was made to develop a tool for general use.\n",
    "\n",
    "This is a very simple tool. It will take an input file of detections and based on an input parameter will identify suspect detections. The suspect detections will be put into a dataframe which the user can examine. There will be enough information for each suspect detection for the user to understand why it was flagged. There is also enough information to be able to reference the detection in the original file if the user wants to see what was happening at the same time.\n",
    "\n",
    "The input parameter is a time in seconds. We used 3600 seconds as the default as this is what was used in Easton's code. This value can be changed by the user. The output contains a record for each detection for which there has been more than xx seconds since the previous detection (of that tag/animal) and more than the same amount of time until the next detection. It ignores which receiver the detection occurred at. That is all it does, nothing more and nothing less.\n",
    "\n",
    "Below the interval is set to 3600 seconds and is not using a a user specified suspect file. The function will also create a distance matrix.\n",
    "\n",
    "<span style=\"color:red\">Warning:</span> \n",
    "\n",
    "    Input files must include ``datecollected``, ``catalognumber``, ``station`` and ``unqdetecid`` as columns."
   ]
  },
  {
   "cell_type": "code",
   "execution_count": null,
   "metadata": {},
   "outputs": [],
   "source": [
    "from resonate.filters import get_distance_matrix\n",
    "from resonate.filters import filter_detections\n",
    "import pandas as pd\n",
    "\n",
    "detections = pd.read_csv('/path/to/detections.csv')\n",
    "\n",
    "time_interval = 3600 # in seconds\n",
    "\n",
    "SuspectFile = None\n",
    "\n",
    "CreateDistanceMatrix = True\n",
    "\n",
    "filtered_detections = filter_detections(detections, \n",
    "                                        suspect_file=SuspectFile, \n",
    "                                        min_time_buffer=time_interval,\n",
    "                                        distance_matrix=CreateDistanceMatrix)\n"
   ]
  },
  {
   "cell_type": "markdown",
   "metadata": {},
   "source": [
    "You can use the Pandas `DataFrame.to_csv()` function to output the file to a desired location."
   ]
  },
  {
   "cell_type": "code",
   "execution_count": null,
   "metadata": {},
   "outputs": [],
   "source": [
    "filtered_detections['filtered'].to_csv('/path/to/output.csv', index=False)\n",
    "\n",
    "filtered_detections['suspect'].to_csv('/path/to/output.csv', index=False)\n",
    "\n",
    "filtered_detections['dist_mtrx'].to_csv('/path/to/output.csv', index=False)"
   ]
  },
  {
   "cell_type": "markdown",
   "metadata": {},
   "source": [
    "## Distance Filter\n",
    "\n",
    "The distance filter will separate detections based only on distance. The ``maximum_distance`` argument defaults to 100,000 meters (or 100 kilometers), but can be adjusted. Any detection where the succeeding and preceding detections are more than the ``maximum_distance`` away will be considered suspect.\n",
    "\n",
    "<span style=\"color:red\">Warning:</span> \n",
    "\n",
    "    Input files must include ``datecollected``, ``catalognumber``, ``station`` and ``unqdetecid`` as columns."
   ]
  },
  {
   "cell_type": "code",
   "execution_count": null,
   "metadata": {},
   "outputs": [],
   "source": [
    "from resonate.filters import distance_filter\n",
    "import pandas as pd\n",
    "\n",
    "detections = pd.read_csv('/path/to/detections.csv')\n",
    "\n",
    "\n",
    "filtered_detections = distance_filter(detections)"
   ]
  },
  {
   "cell_type": "markdown",
   "metadata": {},
   "source": [
    "You can use the Pandas `DataFrame.to_csv()` function to output the file to a desired location."
   ]
  },
  {
   "cell_type": "code",
   "execution_count": null,
   "metadata": {},
   "outputs": [],
   "source": [
    "filtered_detections['filtered'].to_csv('/path/to/output.csv', index=False)\n",
    "\n",
    "filtered_detections['suspect'].to_csv('/path/to/output.csv', index=False)"
   ]
  },
  {
   "cell_type": "markdown",
   "metadata": {},
   "source": [
    "## Velocity Filter\n",
    "\n",
    "The velocity filter will separate detections based on the animal's velocity. The ``maximum_velocity`` argument defaults to 10 m/s, but can be adjusted. Any detection where the succeeding and preceding velocities of an animal are more than the ``maximum_velocity`` will be considered suspect.\n",
    "\n",
    "<span style=\"color:red\">Warning:</span> \n",
    "\n",
    "    Input files must include ``datecollected``, ``catalognumber``, ``station`` and ``unqdetecid`` as columns."
   ]
  },
  {
   "cell_type": "code",
   "execution_count": null,
   "metadata": {},
   "outputs": [],
   "source": [
    "from resonate.filters import velocity_filter\n",
    "import pandas as pd\n",
    "\n",
    "detections = pd.read_csv('/path/to/detections.csv')\n",
    "\n",
    "\n",
    "filtered_detections = velocity_filter(detections)"
   ]
  },
  {
   "cell_type": "markdown",
   "metadata": {},
   "source": [
    "You can use the Pandas `DataFrame.to_csv()` function to output the file to a desired location."
   ]
  },
  {
   "cell_type": "code",
   "execution_count": null,
   "metadata": {},
   "outputs": [],
   "source": [
    "filtered_detections['filtered'].to_csv('/path/to/output.csv', index=False)\n",
    "\n",
    "filtered_detections['suspect'].to_csv('/path/to/output.csv', index=False)"
   ]
  }
 ],
 "metadata": {
  "anaconda-cloud": {},
  "kernelspec": {
   "display_name": "Python [default]",
   "language": "python",
   "name": "python3"
  },
  "language_info": {
   "codemirror_mode": {
    "name": "ipython",
    "version": 3
   },
   "file_extension": ".py",
   "mimetype": "text/x-python",
   "name": "python",
   "nbconvert_exporter": "python",
   "pygments_lexer": "ipython3",
   "version": "3.6.6"
  },
  "varInspector": {
   "cols": {
    "lenName": 16,
    "lenType": 16,
    "lenVar": 40
   },
   "kernels_config": {
    "python": {
     "delete_cmd_postfix": "",
     "delete_cmd_prefix": "del ",
     "library": "var_list.py",
     "varRefreshCmd": "print(var_dic_list())"
    },
    "r": {
     "delete_cmd_postfix": ") ",
     "delete_cmd_prefix": "rm(",
     "library": "var_list.r",
     "varRefreshCmd": "cat(var_dic_list()) "
    }
   },
   "types_to_exclude": [
    "module",
    "function",
    "builtin_function_or_method",
    "instance",
    "_Feature"
   ],
   "window_display": false
  }
 },
 "nbformat": 4,
 "nbformat_minor": 2
}

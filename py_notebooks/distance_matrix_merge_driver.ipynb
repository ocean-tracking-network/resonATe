{
 "cells": [
  {
   "cell_type": "markdown",
   "metadata": {},
   "source": [
    "#    Distance Matrix Merge\n",
    "\n",
    "Merge two distance matrix files together. Useful for overriding distances \n",
    "between stations that are not straight-line distances (ie river systems)"
   ]
  },
  {
   "cell_type": "code",
   "execution_count": null,
   "metadata": {
    "collapsed": false
   },
   "outputs": [],
   "source": [
    "################ Imports ###################\n",
    "import common_python.dis_mtrx_merge as dis\n",
    "\n",
    "# Merge two Distance Matrix files, letting the duplicate pair-distance values \n",
    "dist_matrix_file = 'my_custom_distance_matrix_filename.csv'\n",
    "\n",
    "# The file that has only the stations that require an overridden value for the distance between them \n",
    "# (in cases of stations with land or other obstacles between them which make a straight-line distance incorrect.\n",
    "distance_real_input = 'your_manually_edited_distance_matrix.csv'\n",
    "\n",
    "dis.dis_mtx_merge('reqmerge', dist_matrix_file, distance_real_input)"
   ]
  }
 ],
 "metadata": {
  "kernelspec": {
   "display_name": "Python 2",
   "language": "python",
   "name": "python2"
  },
  "language_info": {
   "codemirror_mode": {
    "name": "ipython",
    "version": 2
   },
   "file_extension": ".py",
   "mimetype": "text/x-python",
   "name": "python",
   "nbconvert_exporter": "python",
   "pygments_lexer": "ipython2",
   "version": "2.7.11"
  }
 },
 "nbformat": 4,
 "nbformat_minor": 0
}

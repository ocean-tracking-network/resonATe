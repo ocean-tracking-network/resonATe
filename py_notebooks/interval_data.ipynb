{
 "cells": [
  {
   "cell_type": "markdown",
   "metadata": {},
   "source": [
    "# Interval Data Tool\n",
    "\n",
    "<hr>\n",
    "\n",
    "Creates a compressed detections table and an interval data file.\n",
    "Intervals are lengths of time in which a station detected an animal.\n",
    "Many consecutive detections of an animal are replaced by one interval."
   ]
  },
  {
   "cell_type": "code",
   "execution_count": null,
   "metadata": {
    "collapsed": true
   },
   "outputs": [],
   "source": [
    "from otntoolbox.filter_detections import get_distance_matrix\n",
    "from otntoolbox.compress import compress_detections\n",
    "from otntoolbox.interval_data_tool import interval_data\n",
    "import pandas as pd\n",
    "import geopy"
   ]
  },
  {
   "cell_type": "code",
   "execution_count": null,
   "metadata": {
    "collapsed": true
   },
   "outputs": [],
   "source": [
    "# Input DataFrames\n",
    "input_file = pd.read_csv(\"/path/to/detections_data.csv\") \n",
    "compressed = compress_detections(input_file) # compressed detections\n",
    "matrix = get_distance_matrix(input_file) # station distance matrix"
   ]
  },
  {
   "cell_type": "code",
   "execution_count": null,
   "metadata": {
    "collapsed": true
   },
   "outputs": [],
   "source": [
    "# Set your station radius values\n",
    "detection_radius = 100 # (in meters) applies same detection radius to all stations\n",
    "\n",
    "station_det_radius = pd.DataFrame([(x, geopy.distance.Distance(detection_radius/1000.0)) for x in matrix.columns.tolist()], columns=['station','radius'])\n",
    "station_det_radius.set_index('station', inplace=True)\n",
    "station_det_radius # preview radius values"
   ]
  },
  {
   "cell_type": "code",
   "execution_count": null,
   "metadata": {
    "collapsed": true
   },
   "outputs": [],
   "source": [
    "# Modify and run this cell to change individual station detection radiuses\n",
    "station_name = 'station'\n",
    "station_detection_radius = 500 # Value in meters\n",
    "\n",
    "station_det_radius.set_value(station_name, 'radius', geopy.distance.Distance( station_detection_radius/1000.0 ))"
   ]
  },
  {
   "cell_type": "code",
   "execution_count": null,
   "metadata": {
    "collapsed": true
   },
   "outputs": [],
   "source": [
    "interval = interval_data(compressed_df=compressed, dist_matrix_df=matrix, station_radius_df=station_det_radius)\n",
    "\n",
    "interval"
   ]
  },
  {
   "cell_type": "code",
   "execution_count": null,
   "metadata": {
    "collapsed": true
   },
   "outputs": [],
   "source": [
    "# Saves the interval data file\n",
    "interval.to_csv('/path/to/output.csv', index=False)"
   ]
  }
 ],
 "metadata": {
  "kernelspec": {
   "display_name": "Python 2",
   "language": "python",
   "name": "python2"
  },
  "language_info": {
   "codemirror_mode": {
    "name": "ipython",
    "version": 2
   },
   "file_extension": ".py",
   "mimetype": "text/x-python",
   "name": "python",
   "nbconvert_exporter": "python",
   "pygments_lexer": "ipython2",
   "version": "2.7.13"
  }
 },
 "nbformat": 4,
 "nbformat_minor": 1
}

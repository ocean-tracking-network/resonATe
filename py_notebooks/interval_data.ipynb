{
 "cells": [
  {
   "cell_type": "markdown",
   "metadata": {},
   "source": [
    "# Interval Data \n",
    "\n",
    "<hr>\n",
    "\n",
    "``interval_data()`` takes a compressed detections DataFrame, a distance matrix, and a detection radius DataFrame and \n",
    "creates an interval data DataFrame.\n",
    "\n",
    "Intervals are lengths of time in which a station detected an animal. Many consecutive detections of an animal are replaced by one interval.\n",
    "\n",
    "<span style=\"color:red\">Warning:</span> \n",
    "\n",
    "    Input files must include ``datecollected``, ``catalognumber``, and ``unqdetecid`` as columns."
   ]
  },
  {
   "cell_type": "code",
   "execution_count": null,
   "metadata": {},
   "outputs": [],
   "source": [
    "from resonate.filters import get_distance_matrix\n",
    "from resonate.compress import compress_detections\n",
    "from resonate.interval_data_tool import interval_data\n",
    "from resonate.determine_format import detect\n",
    "import pandas as pd\n",
    "import geopy\n",
    "\n",
    "input_file = pd.read_csv('/path/to/detections.csv', low_memory=False) \n",
    "compressed = compress_detections(input_file, **detect(input_file)) \n",
    "matrix = get_distance_matrix(input_file, **detect(input_file))"
   ]
  },
  {
   "cell_type": "markdown",
   "metadata": {},
   "source": [
    "Set the station radius for each station name."
   ]
  },
  {
   "cell_type": "code",
   "execution_count": null,
   "metadata": {},
   "outputs": [],
   "source": [
    "detection_radius = 400\n",
    "\n",
    "station_det_radius = pd.DataFrame([(x, geopy.distance.Distance(detection_radius/1000.0)) \n",
    "                                   for x in matrix.columns.tolist()], columns=['station','radius'])\n",
    "\n",
    "station_det_radius.set_index('station', inplace=True)\n",
    "\n",
    "station_det_radius "
   ]
  },
  {
   "cell_type": "markdown",
   "metadata": {},
   "source": [
    "You can modify individual stations if needed by using ``DatraFrame.set_value()`` from Pandas."
   ]
  },
  {
   "cell_type": "code",
   "execution_count": null,
   "metadata": {},
   "outputs": [],
   "source": [
    "station_name = 'HFX001'\n",
    "\n",
    "station_detection_radius = 500\n",
    "\n",
    "station_det_radius.at[station_name, 'radius'] = geopy.distance.Distance( station_detection_radius/1000.0 )"
   ]
  },
  {
   "cell_type": "markdown",
   "metadata": {},
   "source": [
    "Create the interval data by passing the compressed detections, the matrix, and the station radii."
   ]
  },
  {
   "cell_type": "code",
   "execution_count": null,
   "metadata": {},
   "outputs": [],
   "source": [
    "interval = interval_data(compressed_df=compressed, dist_matrix_df=matrix, station_radius_df=station_det_radius)\n",
    "\n",
    "interval"
   ]
  },
  {
   "cell_type": "markdown",
   "metadata": {},
   "source": [
    "You can use the Pandas `DataFrame.to_csv()` function to output the file to a desired location."
   ]
  },
  {
   "cell_type": "code",
   "execution_count": null,
   "metadata": {},
   "outputs": [],
   "source": [
    "interval.to_csv('/path/to/output.csv', index=False)"
   ]
  }
 ],
 "metadata": {
  "anaconda-cloud": {},
  "kernelspec": {
   "display_name": "nodebook",
   "language": "python",
   "name": "python3"
  },
  "language_info": {
   "codemirror_mode": {
    "name": "ipython",
    "version": 3
   },
   "file_extension": ".py",
   "mimetype": "text/x-python",
   "name": "python",
   "nbconvert_exporter": "python",
   "pygments_lexer": "ipython3",
   "version": "3.9.21"
  },
  "varInspector": {
   "cols": {
    "lenName": 16,
    "lenType": 16,
    "lenVar": 40
   },
   "kernels_config": {
    "python": {
     "delete_cmd_postfix": "",
     "delete_cmd_prefix": "del ",
     "library": "var_list.py",
     "varRefreshCmd": "print(var_dic_list())"
    },
    "r": {
     "delete_cmd_postfix": ") ",
     "delete_cmd_prefix": "rm(",
     "library": "var_list.r",
     "varRefreshCmd": "cat(var_dic_list()) "
    }
   },
   "types_to_exclude": [
    "module",
    "function",
    "builtin_function_or_method",
    "instance",
    "_Feature"
   ],
   "window_display": false
  }
 },
 "nbformat": 4,
 "nbformat_minor": 2
}

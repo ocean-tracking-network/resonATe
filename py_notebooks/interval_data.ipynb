{
 "cells": [
  {
   "cell_type": "markdown",
   "metadata": {},
   "source": [
    "# Interval Data \n",
    "\n",
    "<hr>\n",
    "\n",
    "``interval_data()`` takes a compressed detections DataFrame, a distance matrix, and a detection radiues DataFrame and \n",
    "creates an interval data DataFrame.\n",
    "\n",
    "Intervals are lengths of time in which a station detected an animal. Many consecutive detections of an animal are replaced by one interval."
   ]
  },
  {
   "cell_type": "code",
   "execution_count": null,
   "metadata": {
    "collapsed": true
   },
   "outputs": [],
   "source": [
    "from resonate.filter_detections import get_distance_matrix\n",
    "from resonate.compress import compress_detections\n",
    "from resonate.interval_data_tool import interval_data\n",
    "import pandas as pd\n",
    "import geopy\n",
    "\n",
    "input_file = pd.read_csv(\"../tests/assertion_files/nsbs.csv\") \n",
    "compressed = compress_detections(input_file) \n",
    "matrix = get_distance_matrix(input_file)"
   ]
  },
  {
   "cell_type": "markdown",
   "metadata": {},
   "source": [
    "Set the station radius for each station name."
   ]
  },
  {
   "cell_type": "code",
   "execution_count": null,
   "metadata": {},
   "outputs": [],
   "source": [
    "detection_radius = 400\n",
    "\n",
    "station_det_radius = pd.DataFrame([(x, geopy.distance.Distance(detection_radius/1000.0)) \n",
    "                                   for x in matrix.columns.tolist()], columns=['station','radius'])\n",
    "\n",
    "station_det_radius.set_index('station', inplace=True)\n",
    "\n",
    "station_det_radius "
   ]
  },
  {
   "cell_type": "markdown",
   "metadata": {},
   "source": [
    "You can modify individual stations if needed by using ``DatraFrame.set_value()`` from Pandas."
   ]
  },
  {
   "cell_type": "code",
   "execution_count": null,
   "metadata": {
    "collapsed": true
   },
   "outputs": [],
   "source": [
    "station_name = 'station'\n",
    "\n",
    "station_detection_radius = 500\n",
    "\n",
    "station_det_radius.set_value(station_name, 'radius', geopy.distance.Distance( station_detection_radius/1000.0 ))"
   ]
  },
  {
   "cell_type": "markdown",
   "metadata": {},
   "source": [
    "Create the interval data by passing the compressed detections, the matrix, and the station radii."
   ]
  },
  {
   "cell_type": "code",
   "execution_count": null,
   "metadata": {},
   "outputs": [],
   "source": [
    "interval = interval_data(compressed_df=compressed, dist_matrix_df=matrix, station_radius_df=station_det_radius)\n",
    "\n",
    "interval"
   ]
  },
  {
   "cell_type": "markdown",
   "metadata": {},
   "source": [
    "You can use the Pandas `DataFrame.to_csv()` function to output the file to a desired location."
   ]
  },
  {
   "cell_type": "code",
   "execution_count": null,
   "metadata": {
    "collapsed": true
   },
   "outputs": [],
   "source": [
    "interval.to_csv('/path/to/output.csv', index=False)"
   ]
  }
 ],
 "metadata": {
  "kernelspec": {
   "display_name": "Python 2",
   "language": "python",
   "name": "python2"
  },
  "language_info": {
   "codemirror_mode": {
    "name": "ipython",
    "version": 2
   },
   "file_extension": ".py",
   "mimetype": "text/x-python",
   "name": "python",
   "nbconvert_exporter": "python",
   "pygments_lexer": "ipython2",
   "version": "2.7.13"
  }
 },
 "nbformat": 4,
 "nbformat_minor": 1
}

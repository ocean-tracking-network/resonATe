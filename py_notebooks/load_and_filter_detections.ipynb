{
 "cells": [
  {
   "cell_type": "code",
   "execution_count": 8,
   "metadata": {
    "collapsed": false
   },
   "outputs": [
    {
     "name": "stdout",
     "output_type": "stream",
     "text": [
      "Verifying detection file: 'acs_matched_detections_2012.csv'... OK!\n",
      "Loading records into acs_matched_detections_2012_v00, Please wait...\n",
      "Creating geometry column for st_setsrid_4326, identified as WKB\n",
      "Populating geometry column with ST_GeomFromEWKB\n",
      "File loaded successfully! Detection Count: 90331\n",
      "Processing detection summary on table acs_matched_detections_2012_v00 using the time interval: 60 minute(s)\n",
      "Detection summary exported to: /home/vagrant/data/acs_matched_detections_2012_suspect_v00.csv\n",
      "There are 1224 suspect detections\n",
      "Station distance matrix exported to: /home/vagrant/data/acs_matched_detections_2012_distance_matrix_v00.csv\n",
      "There are 171 station matrix pairs\n",
      "Loading complete. Created/populated 3 tables\n"
     ]
    }
   ],
   "source": [
    "# -------------------------------\n",
    "#     Loading Your Detections\n",
    "# -------------------------------\n",
    "#  Use the variables below to point the Toolbox scripts at your data.\n",
    "#  Fill in the strings that are commented with # USER:  \n",
    "#  then highlight a cell and hit Run Cell (play button above)\n",
    "\n",
    "from common_python.load_detections import loadDetections\n",
    "from common_python.filter_detections import filterDetections\n",
    "\n",
    "# Set some variables\n",
    "detection_file = 'acs_matched_detections_2012.csv'      # USER: And provide the filename here\n",
    "\n",
    "version_id = '' #Version ID number [0 for initial(first) load]\n",
    "time_interval = 60 #Time interval used to evaluate suspect detections (in minutes)\n",
    "\n",
    "\n",
    "detection_radius = '' # Average Distance from receviers, in meters, tags can be detected\n",
    "# There will be an opportunity later to change values for individual stations\n",
    "# If entered: Value must be between 0 and 999 \n",
    "\n",
    "\n",
    "# Create a suspect detections file?\n",
    "SuspectDetections = True\n",
    "\n",
    "# If you'd like to create a distance matrix for the stations in this detection file, \n",
    "# leave DistanceMatrix = True\n",
    "DistanceMatrix = True\n",
    "ReloadInputFile = True\n",
    "\n",
    "table_names = loadDetections(detection_file, version_id, DistanceMatrix, \n",
    "                   ReloadInputFile, SuspectDetections, time_interval, detection_radius) # Wait for output below to say 'Loading complete.'"
   ]
  },
  {
   "cell_type": "code",
   "execution_count": 9,
   "metadata": {
    "collapsed": false
   },
   "outputs": [
    {
     "name": "stdout",
     "output_type": "stream",
     "text": [
      "Using suspect detection file: /home/vagrant/data/acs_matched_detections_2012_suspect_v00.csv\n",
      "Loading records into acs_matched_detections_2012_v00, Please wait...\n",
      "Input detection file contains 90331 records\n",
      "Loading records into suspects, Please wait...\n",
      "Dropping existing table acs_matched_detections_2012_v01\n",
      "1224 suspect detections removed\n",
      "Total detections in output file: 89107\n",
      "Detection file saved to: (/home/vagrant/data/acs_matched_detections_2012_v01.csv)\n",
      "Station distance matrix exported to: /home/vagrant/data/acs_matched_detections_2012_distance_matrix_v01.csv\n",
      "There are 169 station matrix pairs\n"
     ]
    },
    {
     "data": {
      "text/plain": [
       "'Filtering complete.'"
      ]
     },
     "execution_count": 9,
     "metadata": {},
     "output_type": "execute_result"
    }
   ],
   "source": [
    "# -----------------------------------------------\n",
    "#     Filtering Detections on Distance / Time\n",
    "#\n",
    "# -----------------------------------------------\n",
    "\n",
    "# Tables created by this script and the script above are returned by \n",
    "# loadDetections() and listed in the 'table_names' variable.\n",
    "# Types of table are Detection, station matrix, and suspect \n",
    "\n",
    "\n",
    "# If you have your own file of suspect detections, point to it here \n",
    "# and set OverrideSuspectDetectionFile to 'True':\n",
    "OverrideSuspectDetectionFile = None\n",
    "# Can replace the generated Suspect Detections file with your hand-edited file of suspect detections\n",
    "SuspectFile = None # '/home/sandbox/data/sandbox/My_Suspect_Detections_File.csv' \n",
    "\n",
    "filterDetections(detection_file, version_id, SuspectFile, \n",
    "                     OverrideSuspectDetectionFile, DistanceMatrix, \n",
    "                     detection_radius, ReloadInputFile)  # Wait for Out[] to say 'Filtering complete.'"
   ]
  },
  {
   "cell_type": "code",
   "execution_count": 7,
   "metadata": {
    "collapsed": false
   },
   "outputs": [
    {
     "name": "stdout",
     "output_type": "stream",
     "text": [
      "Verifying Detection file: 'acs_matched_detections_2012.csv'... OK!\n",
      "Verifying Distance Matrix file: 'acs_matched_detections_2012_distance_matrix_v00.csv'... OK!\n",
      "Loading Detection file: 'acs_matched_detections_2012.csv'... OK!\n",
      "Loading Distance Matrix file: 'acs_matched_detections_2012_distance_matrix_v00.csv'... OK!\n",
      "Exporting data...\n",
      "OK!\n",
      "Compressed detections exported to: acs_matched_detections_2012_compressed_detections_v00.csv containing 7814 records.\n",
      "Interval data exported to: acs_matched_detections_2012_interval_data_v00.csv containing 7814 records.\n"
     ]
    },
    {
     "data": {
      "text/plain": [
       "''"
      ]
     },
     "execution_count": 7,
     "metadata": {},
     "output_type": "execute_result"
    }
   ],
   "source": [
    "# ---------------------\n",
    "#     Interval Data \n",
    "# ---------------------\n",
    "\n",
    "# Creates a compressed detections table and an interval data file\n",
    "# Intervals are lengths of time in which a station detected an animal.\n",
    "# Many consecutive detections of an animal are replaced by one interval\n",
    "\n",
    "import common_python.interval_data_tool as inter_data\n",
    "\n",
    "dist_matrix_file = \"%s_distance_matrix_%s.%s\" % (detection_file.split('.')[0], table_names['detections'].split('_')[-1], detection_file.split('.')[1])\n",
    "# Or supply your own custom dist_matrix_filename here.\n",
    "# dist_matrix_file = \"my_custom_distance_matrix_filename.csv\"\n",
    "\n",
    "inter_data.intervalData(detection_file, dist_matrix_file)"
   ]
  },
  {
   "cell_type": "code",
   "execution_count": 5,
   "metadata": {
    "collapsed": false
   },
   "outputs": [
    {
     "name": "stdout",
     "output_type": "stream",
     "text": [
      "Verifying distance matrix file: 'acs_matched_detections_2012_distance_matrix_v00.csv'... OK!\n",
      "Verifying distance real file: 'acs_matched_detections_2012_distance_matrix_v01.csv'... OK!\n",
      "There are 3 records updated in file acs_matched_detections_2012_distance_matrix_v00_merged.csv\n",
      "Updates complete.\n"
     ]
    },
    {
     "data": {
      "text/plain": [
       "1"
      ]
     },
     "execution_count": 5,
     "metadata": {},
     "output_type": "execute_result"
    }
   ],
   "source": [
    "# ---------------------------\n",
    "#    Distance Matrix Merge\n",
    "# ---------------------------\n",
    "\n",
    "# Merge two distance matrix files together. Useful for overriding distances \n",
    "# between stations that are not straight-line distances (ie river systems)\n",
    "\n",
    "import common_python.dis_mtrx_merge as dis\n",
    "\n",
    "# Merge two Distance Matrix files, letting the duplicate pair-distance values \n",
    "\n",
    "dist_matrix_file = \"%s_distance_matrix_v00.%s\" % tuple(detection_file.split('.')) # the full file that you had before\n",
    "dist_matrix_file = 'acs_matched_detections_2012_distance_matrix_v00.csv'\n",
    "\n",
    "# The file that has only the stations that require an overridden value for the distance between them \n",
    "# (in cases of stations with land or other obstacles between them which make a straight-line distance incorrect.\n",
    "distance_real_input = 'acs_matched_detections_2012_distance_matrix_v01.csv'\n",
    "\n",
    "\n",
    "dis.dis_mtx_merge('reqmerge', dist_matrix_file, distance_real_input)"
   ]
  },
  {
   "cell_type": "code",
   "execution_count": null,
   "metadata": {
    "collapsed": true
   },
   "outputs": [],
   "source": []
  }
 ],
 "metadata": {
  "kernelspec": {
   "display_name": "Python 2",
   "language": "python",
   "name": "python2"
  },
  "language_info": {
   "codemirror_mode": {
    "name": "ipython",
    "version": 2
   },
   "file_extension": ".py",
   "mimetype": "text/x-python",
   "name": "python",
   "nbconvert_exporter": "python",
   "pygments_lexer": "ipython2",
   "version": "2.7.11"
  }
 },
 "nbformat": 4,
 "nbformat_minor": 0
}

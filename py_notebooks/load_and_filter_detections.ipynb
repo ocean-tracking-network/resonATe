{
 "cells": [
  {
   "cell_type": "code",
   "execution_count": null,
   "metadata": {
    "collapsed": true
   },
   "outputs": [],
   "source": [
    "%load_ext autoreload\n",
    "%autoreload 2"
   ]
  },
  {
   "cell_type": "markdown",
   "metadata": {},
   "source": [
    "\n",
    "# Loading Your Detections\n",
    "\n",
    "* Use the variables below to point the Toolbox scripts at your data.\n",
    "* Fill in the strings that are commented with `# REQUIRED:` then highlight a cell and hit Run Cell ('play' button above)"
   ]
  },
  {
   "cell_type": "code",
   "execution_count": null,
   "metadata": {
    "collapsed": false
   },
   "outputs": [],
   "source": [
    "from common_python.load_detections import loadDetections\n",
    "from common_python.filter_detections import filterDetections\n",
    "\n",
    "#  Set some variables\n",
    "detection_file = ''      #  REQUIRED: And provide the filename here\n",
    "\n",
    "\n",
    "version_id = '' #  OPTIONAL: Manually set a version ID number [0 for initial(first) load]\n",
    "time_interval = 60 #  OPTIONAL: Time interval used to evaluate suspect detections (in minutes)\n",
    "\n",
    "#  OPTIONAL: Average Distance from receivers, in meters, at which tags can be detected\n",
    "detection_radius = '' \n",
    "#  There will be an opportunity later to change these values for individual stations\n",
    "#  If entered: Value must be between 0 and 999 \n",
    "\n",
    "\n",
    "#  Create a suspect detections file?\n",
    "SuspectDetections = True #  True / False \n",
    "\n",
    "#  If you'd like to create a customizable distance matrix file for adjusting the distance \n",
    "#  between stations found in the above detection file\n",
    "CreateDistanceMatrix = True #  True / False\n",
    "\n",
    "#  If you want to reload the input file into the internal database\n",
    "#  Setting this to False will match a previously loaded instance of this filename and \n",
    "#  use the data from there. For very large and unchanging input datasets, it's OK\n",
    "#  to set this to False.\n",
    "ReloadInputFile = True  #  True / False\n",
    "\n",
    "#  Loads detection data into the PostgreSQL table and returns a list of table names for the tables it creates\n",
    "table_names = loadDetections(detection_file, version_id, CreateDistanceMatrix, \n",
    "                   ReloadInputFile, SuspectDetections, time_interval, detection_radius) \n",
    "\n",
    "# Wait for output below to say 'Loading complete.'"
   ]
  },
  {
   "cell_type": "markdown",
   "metadata": {},
   "source": [
    "# Filtering Detections on Distance / Time\n",
    "\n",
    "Tables created by this script and the script above are returned by `loadDetections()` and listed in the `table_names` variable.\n",
    "Types of table are Detection, station matrix, and suspect "
   ]
  },
  {
   "cell_type": "code",
   "execution_count": null,
   "metadata": {
    "collapsed": false
   },
   "outputs": [],
   "source": [
    "# If you have your own file of suspect detections, point to it here \n",
    "# and set OverrideSuspectDetectionFile to True:\n",
    "\n",
    "OverrideSuspectDetectionFile = False #  True / False\n",
    "\n",
    "\n",
    "# Can replace the generated Suspect Detections file with your hand-edited file of suspect detections\n",
    "# This file should live in your shared data folder.\n",
    "if OverrideSuspectDetectionFile:\n",
    "    # Supply the Suspect Detections file here:\n",
    "    SuspectFile = 'My_Suspect_Detections_File.csv' \n",
    "else:\n",
    "    SuspectFile = None\n",
    "\n",
    "filterDetections(detection_file, version_id, SuspectFile, \n",
    "                     OverrideSuspectDetectionFile, CreateDistanceMatrix, \n",
    "                     detection_radius, ReloadInputFile)  # Wait for Out[] to say 'Filtering complete.'"
   ]
  },
  {
   "cell_type": "code",
   "execution_count": null,
   "metadata": {
    "collapsed": true
   },
   "outputs": [],
   "source": []
  }
 ],
 "metadata": {
  "kernelspec": {
   "display_name": "Python 2",
   "language": "python",
   "name": "python2"
  },
  "language_info": {
   "codemirror_mode": {
    "name": "ipython",
    "version": 2
   },
   "file_extension": ".py",
   "mimetype": "text/x-python",
   "name": "python",
   "nbconvert_exporter": "python",
   "pygments_lexer": "ipython2",
   "version": "2.7.11"
  }
 },
 "nbformat": 4,
 "nbformat_minor": 0
}

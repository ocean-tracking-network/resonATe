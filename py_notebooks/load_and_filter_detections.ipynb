{
 "cells": [
  {
   "cell_type": "code",
   "execution_count": null,
   "metadata": {
    "collapsed": true
   },
   "outputs": [],
   "source": [
    "%load_ext autoreload\n",
    "%autoreload 2"
   ]
  },
  {
   "cell_type": "code",
   "execution_count": null,
   "metadata": {
    "collapsed": false
   },
   "outputs": [],
   "source": [
    "# -------------------------------\n",
    "#     Loading Your Detections\n",
    "# -------------------------------\n",
    "#  Use the variables below to point the Toolbox scripts at your data.\n",
    "#  Fill in the strings that are commented with # USER:  \n",
    "#  then highlight a cell and hit Run Cell (play button above)\n",
    "\n",
    "from common_python.load_detections import loadDetections\n",
    "from common_python.filter_detections import filterDetections\n",
    "\n",
    "# Set some variables\n",
    "detection_file = ''      # USER: And provide the filename here\n",
    "\n",
    "version_id = '' #Version ID number [0 for initial(first) load]\n",
    "time_interval = 60 #Time interval used to evaluate suspect detections (in minutes)\n",
    "\n",
    "\n",
    "detection_radius = '' # Average Distance from receviers, in meters, tags can be detected\n",
    "# There will be an opportunity later to change values for individual stations\n",
    "# If entered: Value must be between 0 and 999 \n",
    "\n",
    "\n",
    "# Create a suspect detections file?\n",
    "SuspectDetections = True\n",
    "\n",
    "# If you'd like to create a distance matrix for the stations in this detection file, \n",
    "# leave DistanceMatrix = True\n",
    "DistanceMatrix = True\n",
    "ReloadInputFile = True\n",
    "\n",
    "table_names = loadDetections(detection_file, version_id, DistanceMatrix, \n",
    "                   ReloadInputFile, SuspectDetections, time_interval, detection_radius) # Wait for output below to say 'Loading complete.'"
   ]
  },
  {
   "cell_type": "code",
   "execution_count": null,
   "metadata": {
    "collapsed": false
   },
   "outputs": [],
   "source": [
    "# -----------------------------------------------\n",
    "#     Filtering Detections on Distance / Time\n",
    "#\n",
    "# -----------------------------------------------\n",
    "\n",
    "# Tables created by this script and the script above are returned by \n",
    "# loadDetections() and listed in the 'table_names' variable.\n",
    "# Types of table are Detection, station matrix, and suspect \n",
    "\n",
    "\n",
    "# If you have your own file of suspect detections, point to it here \n",
    "# and set OverrideSuspectDetectionFile to 'True':\n",
    "OverrideSuspectDetectionFile = None\n",
    "# Can replace the generated Suspect Detections file with your hand-edited file of suspect detections\n",
    "SuspectFile = None # '/home/sandbox/data/sandbox/My_Suspect_Detections_File.csv' \n",
    "\n",
    "filterDetections(detection_file, version_id, SuspectFile, \n",
    "                     OverrideSuspectDetectionFile, DistanceMatrix, \n",
    "                     detection_radius, ReloadInputFile)  # Wait for Out[] to say 'Filtering complete.'"
   ]
  },
  {
   "cell_type": "code",
   "execution_count": null,
   "metadata": {
    "collapsed": false
   },
   "outputs": [],
   "source": [
    "# ---------------------\n",
    "#     Interval Data \n",
    "# ---------------------\n",
    "\n",
    "# Creates a compressed detections table and an interval data file\n",
    "# Intervals are lengths of time in which a station detected an animal.\n",
    "# Many consecutive detections of an animal are replaced by one interval\n",
    "\n",
    "import common_python.interval_data_tool as inter_data\n",
    "\n",
    "dist_matrix_file = \"%s_distance_matrix_%s.%s\" % (detection_file.split('.')[0], table_names['detections'].split('_')[-1], detection_file.split('.')[1])\n",
    "# Or supply your own custom dist_matrix_filename here.\n",
    "# dist_matrix_file = \"my_custom_distance_matrix_filename.csv\"\n",
    "\n",
    "inter_data.intervalData(detection_file, dist_matrix_file)"
   ]
  },
  {
   "cell_type": "code",
   "execution_count": null,
   "metadata": {
    "collapsed": false
   },
   "outputs": [],
   "source": [
    "# ---------------------------\n",
    "#    Distance Matrix Merge\n",
    "# ---------------------------\n",
    "\n",
    "# Merge two distance matrix files together. Useful for overriding distances \n",
    "# between stations that are not straight-line distances (ie river systems)\n",
    "\n",
    "import common_python.dis_mtrx_merge as dis\n",
    "\n",
    "# Merge two Distance Matrix files, letting the duplicate pair-distance values \n",
    "\n",
    "dist_matrix_file = \"%s_distance_matrix_v00.%s\" % tuple(detection_file.split('.')) # the full file that you had before\n",
    "# dist_matrix_file = 'my_custom_distance_matrix_filename.csv'\n",
    "\n",
    "# The file that has only the stations that require an overridden value for the distance between them \n",
    "# (in cases of stations with land or other obstacles between them which make a straight-line distance incorrect.\n",
    "distance_real_input = 'your_manually_edited_distance_matrix.csv'\n",
    "\n",
    "\n",
    "dis.dis_mtx_merge('reqmerge', dist_matrix_file, distance_real_input)"
   ]
  },
  {
   "cell_type": "code",
   "execution_count": null,
   "metadata": {
    "collapsed": true
   },
   "outputs": [],
   "source": []
  }
 ],
 "metadata": {
  "kernelspec": {
   "display_name": "Python 2",
   "language": "python",
   "name": "python2"
  },
  "language_info": {
   "codemirror_mode": {
    "name": "ipython",
    "version": 2
   },
   "file_extension": ".py",
   "mimetype": "text/x-python",
   "name": "python",
   "nbconvert_exporter": "python",
   "pygments_lexer": "ipython2",
   "version": "2.7.11"
  }
 },
 "nbformat": 4,
 "nbformat_minor": 0
}

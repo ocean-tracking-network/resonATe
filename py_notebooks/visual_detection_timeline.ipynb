{
 "cells": [
  {
   "cell_type": "markdown",
   "metadata": {},
   "source": [
    "# Visual Timeline\n",
    "\n",
    "<hr/>\n",
    "\n",
    "``render_map()`` takes a detection extract CSV file as a data source, \n",
    "as well as a string indicating what the title of the plot should be. \n",
    "The title string will also be the filename for the HTML output, located\n",
    "in an html file.\n",
    "\n",
    "You can supply a basemap argument to choose from a few alternate basemap tilesets. Available basemaps are:\n",
    "\n",
    "- No basemap set or ``basemap='dark_layer'`` - CartoDB/OpenStreetMap Dark\n",
    "- ``basemap='Esri_OceanBasemap'`` - coarse ocean bathymetry\n",
    "- ``basemap='CartoDB_Positron'`` - grayscale land/ocean \n",
    "- ``basemap='Stamen_Toner'`` - Stamen Toner - high-contrast black and white - black ocean\n",
    "\n",
    "\n",
    "<span style=\"color:red\">Warning:</span> \n",
    "\n",
    "    Input files must include ``datecollected``, ``catalognumber``, ``station``, ``latitude``, ``longitude``, and ``unqdetecid`` as columns."
   ]
  },
  {
   "cell_type": "code",
   "execution_count": null,
   "metadata": {
    "collapsed": true
   },
   "outputs": [],
   "source": [
    "import resonate.html_maps as hmaps\n",
    "import pandas as pd\n",
    "detections = pd.read_csv(\"/path/to/detection.csv\")\n",
    "hmaps.render_map(detections, \"Title\")"
   ]
  },
  {
   "cell_type": "code",
   "execution_count": null,
   "metadata": {
    "collapsed": true
   },
   "outputs": [],
   "source": []
  }
 ],
 "metadata": {
  "kernelspec": {
   "display_name": "Python [default]",
   "language": "python",
   "name": "python3"
  },
  "language_info": {
   "codemirror_mode": {
    "name": "ipython",
    "version": 3
   },
   "file_extension": ".py",
   "mimetype": "text/x-python",
   "name": "python",
   "nbconvert_exporter": "python",
   "pygments_lexer": "python",
   "version": "3.6.3"
  },
  "varInspector": {
   "cols": {
    "lenName": 16,
    "lenType": 16,
    "lenVar": 40
   },
   "kernels_config": {
    "python": {
     "delete_cmd_postfix": "",
     "delete_cmd_prefix": "del ",
     "library": "var_list.py",
     "varRefreshCmd": "print(var_dic_list())"
    },
    "r": {
     "delete_cmd_postfix": ") ",
     "delete_cmd_prefix": "rm(",
     "library": "var_list.r",
     "varRefreshCmd": "cat(var_dic_list()) "
    }
   },
   "types_to_exclude": [
    "module",
    "function",
    "builtin_function_or_method",
    "instance",
    "_Feature"
   ],
   "window_display": false
  }
 },
 "nbformat": 4,
 "nbformat_minor": 1
}

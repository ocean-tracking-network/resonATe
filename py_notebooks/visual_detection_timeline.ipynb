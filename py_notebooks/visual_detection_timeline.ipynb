{
 "cells": [
  {
   "cell_type": "markdown",
   "metadata": {},
   "source": [
    "# Visual Timeline\n",
    "\n",
    "<hr/>\n",
    "\n",
    "This tool takes a detections extract file and generates a Plotly animated timeline, either in place in an iPython notebook or exported out to an HTML file.\n",
    "\n",
    "\n",
    "<span style=\"color:red\">Warning:</span> \n",
    "\n",
    "    Input files must include ``datecollected``, ``catalognumber``, ``station``, ``latitude``, and ``longitude`` as columns."
   ]
  },
  {
   "cell_type": "code",
   "execution_count": null,
   "metadata": {},
   "outputs": [],
   "source": [
    "from resonate.visual_timeline import timeline\n",
    "import pandas as pd\n",
    "detections = pd.read_csv(\"/path/to/detection.csv\")\n",
    "timeline(detections, \"Timeline\")"
   ]
  },
  {
   "cell_type": "markdown",
   "metadata": {},
   "source": [
    "## Exporting to an HTML File\n",
    "\n",
    "You can export the map to an HTML file by setting ``ipython_display`` to ``False``."
   ]
  },
  {
   "cell_type": "code",
   "execution_count": null,
   "metadata": {},
   "outputs": [],
   "source": [
    "from resonate.visual_timeline import timeline\n",
    "import pandas as pd\n",
    "detections = pd.read_csv(\"/path/to/detection.csv\")\n",
    "timeline(detections, \"Timeline\", ipython_display=False)"
   ]
  },
  {
   "cell_type": "markdown",
   "metadata": {},
   "source": [
    "## Mapbox\n",
    "Alternatively you can use a Mapbox access token plot your map. Mapbox is much for responsive than standard Scattergeo plot."
   ]
  },
  {
   "cell_type": "code",
   "execution_count": null,
   "metadata": {},
   "outputs": [],
   "source": [
    "from resonate.visual_timeline import timeline\n",
    "import pandas as pd\n",
    "\n",
    "mapbox_access_token = 'YOUR MAPBOX ACCESS TOKEN HERE'\n",
    "detections = pd.read_csv(\"/path/to/detection.csv\")\n",
    "timeline(detections, \"Title\", mapbox_token=mapbox_access_token)"
   ]
  }
 ],
 "metadata": {
  "anaconda-cloud": {},
  "kernelspec": {
   "display_name": "Python [default]",
   "language": "python",
   "name": "python3"
  },
  "language_info": {
   "codemirror_mode": {
    "name": "ipython",
    "version": 3
   },
   "file_extension": ".py",
   "mimetype": "text/x-python",
   "name": "python",
   "nbconvert_exporter": "python",
   "pygments_lexer": "ipython3",
   "version": "3.6.6"
  },
  "varInspector": {
   "cols": {
    "lenName": 16,
    "lenType": 16,
    "lenVar": 40
   },
   "kernels_config": {
    "python": {
     "delete_cmd_postfix": "",
     "delete_cmd_prefix": "del ",
     "library": "var_list.py",
     "varRefreshCmd": "print(var_dic_list())"
    },
    "r": {
     "delete_cmd_postfix": ") ",
     "delete_cmd_prefix": "rm(",
     "library": "var_list.r",
     "varRefreshCmd": "cat(var_dic_list()) "
    }
   },
   "types_to_exclude": [
    "module",
    "function",
    "builtin_function_or_method",
    "instance",
    "_Feature"
   ],
   "window_display": false
  }
 },
 "nbformat": 4,
 "nbformat_minor": 1
}

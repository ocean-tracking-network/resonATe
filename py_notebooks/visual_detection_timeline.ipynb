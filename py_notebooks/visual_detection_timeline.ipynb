{
 "cells": [
  {
   "cell_type": "code",
   "execution_count": null,
   "metadata": {
    "collapsed": true
   },
   "outputs": [],
   "source": [
    "# Enter a detection CSV file and title text for the visualization\n",
    "import common_python.html_maps as hmaps\n",
    "\n",
    "# render_map takes a detection extract CSV file as a data source, \n",
    "# as well as a string indicating what the title of the plot should be. \n",
    "# The title string will also be the filename for the HTML output, located in data/html\n",
    "\n",
    "hmaps.render_map(\"YOUR CSVFILE HERE\", \"TITLE\")"
   ]
  }
 ],
 "metadata": {
  "kernelspec": {
   "display_name": "Python 2",
   "language": "python",
   "name": "python2"
  },
  "language_info": {
   "codemirror_mode": {
    "name": "ipython",
    "version": 2
   },
   "file_extension": ".py",
   "mimetype": "text/x-python",
   "name": "python",
   "nbconvert_exporter": "python",
   "pygments_lexer": "ipython2",
   "version": "2.7.11"
  }
 },
 "nbformat": 4,
 "nbformat_minor": 0
}

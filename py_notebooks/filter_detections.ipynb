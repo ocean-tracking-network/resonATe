{
 "cells": [
  {
   "cell_type": "markdown",
   "metadata": {},
   "source": [
    "# Filtering Detections on Distance / Time\n",
    "\n",
    "*(White, E., Mihoff, M., Jones, B., Bajona, L., Halfyard, E. 2014. White-Mihoff False Filtering Tool)*\n",
    "\n",
    "OTN has developed a tool which will assist with filtering false detections. The first level of filtering involves identifying isolated detections. The original concept came from work done by Easton White. He was kind enough to share his research database with OTN. We did some preliminary research and developed a proposal for a filtering tool based on what Easton had done. This proof of concept was presented to Steve Kessel and Eddie Halfyard in December 2013 and a decision was made to develop a tool for general use.\n",
    "\n",
    "This is a very simple tool. It will take an input file of detections and based on an input parameter will identify suspect detections. The suspect detections will be put into a dataframe which the user can examine. There will be enough information for each suspect detection for the user to understand why it was flagged. There is also enough information to be able to reference the detection in the original file if the user wants to see what was happening at the same time.\n",
    "\n",
    "The input parameter is a time in minutes. We used 60 minutes as the default as this is what was used in Easton's code. This value can be changed by the user. The output contains a record for each detection for which there has been more than xx minutes since the previous detection (of that tag/animal) and more than the same amount of time until the next detection. It ignores which receiver the detection occurred at. That is all it does, nothing more and nothing less.\n",
    "\n",
    "Below the interval is set to 60 minutes and is not using a a user specified suspect file. The function will also create a distance matrix."
   ]
  },
  {
   "cell_type": "code",
   "execution_count": 1,
   "metadata": {},
   "outputs": [
    {
     "name": "stdout",
     "output_type": "stream",
     "text": [
      "Total detections in filtered dataframe: 19738\n",
      "64 suspect detections removed\n",
      "There are 222 station locations in the distance matrix\n"
     ]
    }
   ],
   "source": [
    "from otntoolbox.filter_detections import get_distance_matrix\n",
    "from otntoolbox.filter_detections import filter_detections\n",
    "\n",
    "detection_file = '../tests/assertion_files/nsbs.csv'\n",
    "\n",
    "time_interval = 60 # in Minutes\n",
    "\n",
    "SuspectFile = None\n",
    "\n",
    "CreateDistanceMatrix = True\n",
    "\n",
    "filtered_detections = filter_detections(detection_file, \n",
    "                                        suspect_file=SuspectFile, \n",
    "                                        min_time_buffer=time_interval,\n",
    "                                        distance_matrix=CreateDistanceMatrix)\n",
    "\n",
    "filtered_detections['filtered'].to_csv('/Users/alexnunes/Desktop/filtered.csv', index=False)"
   ]
  },
  {
   "cell_type": "markdown",
   "metadata": {},
   "source": [
    "You can use the Pandas `DataFrame.to_csv()` function to output the file to a desired location."
   ]
  },
  {
   "cell_type": "code",
   "execution_count": 2,
   "metadata": {
    "collapsed": true
   },
   "outputs": [],
   "source": [
    "filtered_detections['filtered'].to_csv('../tests/assertion_files/nsbs_filtered.csv', index=False)\n",
    "\n",
    "# filtered_detections['suspect'].to_csv('/path/to/output.csv', index=False)\n",
    "\n",
    "# filtered_detections['dist_mtrx'].to_csv('/path/to/output.csv', index=False)"
   ]
  },
  {
   "cell_type": "code",
   "execution_count": null,
   "metadata": {
    "collapsed": true
   },
   "outputs": [],
   "source": []
  }
 ],
 "metadata": {
  "kernelspec": {
   "display_name": "Python 2",
   "language": "python",
   "name": "python2"
  },
  "language_info": {
   "codemirror_mode": {
    "name": "ipython",
    "version": 2
   },
   "file_extension": ".py",
   "mimetype": "text/x-python",
   "name": "python",
   "nbconvert_exporter": "python",
   "pygments_lexer": "ipython2",
   "version": "2.7.13"
  }
 },
 "nbformat": 4,
 "nbformat_minor": 1
}

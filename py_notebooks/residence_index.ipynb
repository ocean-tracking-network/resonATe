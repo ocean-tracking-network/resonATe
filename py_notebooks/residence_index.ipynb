{
 "cells": [
  {
   "cell_type": "markdown",
   "metadata": {},
   "source": [
    "# Residence Index\n",
    "\n",
    "This residence index tool will take a compressed or uncompressed detection file and caculate the residency \n",
    "index for each station/receiver in the detections. A CSV file will be written to the data directory\n",
    "for future use. A Pandas DataFrame is returned from the function, which can be used to plot the information. \n",
    "The information passed to the function is what is used to calculate the residence index, __make sure you are only\n",
    "passing the data you want taken into consideration for the residence index (i.e. species, stations, tags, etc.)__.\n",
    "\n",
    "\n",
    "\n",
    "\n",
    "### Variables\n",
    "\n",
    "#### residence_index(detections, calculation_method, table)\n",
    "\n",
    "\n",
    "__detections:__ The CSV file in the data directory that is either compressed or raw. If the file is not compressed \n",
    "please allow the program time to compress the file and add the rows to the database. A compressed file will be created\n",
    "in the data directory. Use the compressed file for any future runs of the residence index function.\n",
    "\n",
    "<hr/>\n",
    "\n",
    "__calculation_method:__ The method used to calculate the residence index. \n",
    "\n",
    "Methods are:\n",
    "- kessel \n",
    "- timedelta\n",
    "- aggregate_with_overlap\n",
    "- aggregate_no_overlap.\n",
    "\n",
    "The calculation methods are listed and described below before they are called. The function will default to the\n",
    "Kessel method when nothing is passed.\n",
    "\n",
    "<hr/>\n",
    "\n",
    "__table:__ The database table to use to determine the station/receiver location(lat, long). If no table is passed the \n",
    "function will try to determine the table name from detection file name.\n",
    "\n",
    "\n",
    "\n",
    "\n",
    "\n",
    "\n",
    "\n",
    "<hr/>\n",
    "\n",
    "__Kessel et al. Paper - https://www.researchgate.net/publication/279269147 __"
   ]
  },
  {
   "cell_type": "code",
   "execution_count": null,
   "metadata": {
    "collapsed": true
   },
   "outputs": [],
   "source": [
    "from common_python import kessel_ri as ri\n",
    "import pandas as pd\n",
    "import matplotlib\n",
    "import matplotlib.pyplot as plt\n",
    "from mpl_toolkits.basemap import Basemap\n",
    "import matplotlib.cm as cm\n",
    "\n",
    "%matplotlib inline\n",
    "matplotlib.style.use('ggplot')\n",
    "\n",
    "# Declare the uncompressed detections file you want to plot\n",
    "detfile = \"YOUR UNCOMPRESSED CSV FILE GOES HERE\"\n",
    "\n",
    "# Declare the compressed detections file you want to plot\n",
    "compressed_file = \"YOUR COMPRESSED CSV FILE GOES HERE\""
   ]
  },
  {
   "cell_type": "code",
   "execution_count": null,
   "metadata": {
    "collapsed": true
   },
   "outputs": [],
   "source": [
    "#############################################\n",
    "#\n",
    "# Plotting Function\n",
    "# -----------------\n",
    "#\n",
    "# Passing the returned pandas DataFrame from the residence_index() function to\n",
    "# this function will plot out the residence index\n",
    "#\n",
    "# Size, boundaries, and colors can be modified to tweek the plot.\n",
    "#\n",
    "#############################################\n",
    "\n",
    "def plot_ri(ri):\n",
    "    # Modify the plot dimensions\n",
    "    fig = plt.figure(figsize=(12,12))\n",
    "    \n",
    "    # Create the map\n",
    "    map = Basemap(projection='merc',\n",
    "                  resolution='f',\n",
    "                  # Modify the values /to adjust the boundries of the plot\n",
    "                  llcrnrlat=ri['latitude'].min()-0.01, urcrnrlat=ri['latitude'].max()+0.01,\n",
    "                  llcrnrlon=ri['longitude'].min()-0.01, urcrnrlon=ri['longitude'].max()+0.01)\n",
    "    \n",
    "    # Modify the color of the water\n",
    "    map.drawmapboundary(fill_color='#718ea4')\n",
    "    \n",
    "    #Modify the color of land\n",
    "    map.fillcontinents(color='#2a7e43')\n",
    "    \n",
    "    # Modify the residence index coloring\n",
    "    # http://scipy.github.io/old-wiki/pages/Cookbook/Matplotlib/Show_colormaps\n",
    "    index_coloring = cm.Oranges\n",
    "\n",
    "    indices = [ri['residency_index']]\n",
    "\n",
    "    x,y = map(ri['longitude'].values, ri['latitude'].values)\n",
    "    ri_map = map.scatter(x, y, s=ri['residency_index']*300, c=indices, cmap=index_coloring)\n",
    "    ri_map.set_clim(0,1)\n",
    "    cbar = plt.colorbar()\n",
    "\n",
    "\n",
    "    plt.show()"
   ]
  },
  {
   "cell_type": "markdown",
   "metadata": {},
   "source": [
    "\n",
    "## Kessel Residence Index Calculation\n",
    "The Kessel method converts both the startdate and enddate columns into a date with no hours, minutes,\n",
    "or seconds. Next it creates a list of the unique days where a detection was seen. The size of the\n",
    "list is returned as the total number of days as an integer. This calculation is used to determine the \n",
    "total number of distinct days (T) and the total number of distinct days per station (S).\n",
    "\n",
    "<hr/>\n",
    "# $RI = \\frac{S}{T}$\n",
    "\n",
    "RI = Residence Index\n",
    "\n",
    "S = Distinct number of days detected at the station\n",
    "\n",
    "T = Distinct number of days detected anywhere on the array\n",
    "<hr/>\n",
    "\n",
    "\n",
    "*** NOTE ****\n",
    "Possible rounding error may occur as a detection on 2016-01-01 23:59:59 and a detection on\n",
    "2016-01-02 00:00:01 would be counted as two days when it is really 2-3 seconds."
   ]
  },
  {
   "cell_type": "code",
   "execution_count": null,
   "metadata": {
    "collapsed": true
   },
   "outputs": [],
   "source": [
    "# From Raw Detection File\n",
    "kessel_ri = ri.residency_index(detfile, calculation_method='kessel')\n",
    "\n",
    "# From Compressed File\n",
    "#kessel_ri = ri.residency_index(compressed_file, calculation_method='kessel')\n",
    "\n",
    "plot_ri(kessel_ri)"
   ]
  },
  {
   "cell_type": "markdown",
   "metadata": {},
   "source": [
    "## Timedelta Residence Index Calculation\n",
    "The Timedelta calculation method determines the first startdate of all detections and the last\n",
    "enddate of all detections. The time difference is then taken as the values to be used in \n",
    "calculating the residence index. The timedelta for each station is divided by the timedelta \n",
    "of the array to determine the residence index.\n",
    "\n",
    "\n",
    "<hr/>\n",
    "# $RI = \\frac{\\Delta S}{\\Delta T} $\n",
    "\n",
    "RI = Residence Index\n",
    "\n",
    "$\\Delta S$ = Last detection time at a station - First detection time at the station\n",
    "\n",
    "$\\Delta T$ = Last detection time on an array - First detection time on the array"
   ]
  },
  {
   "cell_type": "code",
   "execution_count": null,
   "metadata": {
    "collapsed": true
   },
   "outputs": [],
   "source": [
    "# From Raw Detection File\n",
    "#timedelta_ri = ri.residency_index(detfile, calculation_method='timedelta')\n",
    "\n",
    "# From Compressed Detection File\n",
    "timedelta_ri = ri.residency_index(compressed_file, calculation_method='timedelta')\n",
    "\n",
    "plot_ri(timedelta_ri)"
   ]
  },
  {
   "cell_type": "markdown",
   "metadata": {},
   "source": [
    "## Aggregate With Overlap Residence Index Calculation\n",
    "The Aggregate With Overlap calculation method takes the length of time of each detection and sums\n",
    "them together. A total is returned. The sum for each station is then divided by the sum of the\n",
    "array to determine the residence index.\n",
    "\n",
    "<hr/>\n",
    "# $RI = \\frac{AwOS}{AwOT} $\n",
    "\n",
    "RI = Residence Index\n",
    "\n",
    "AwOS = Sum of length of time of each detection at the station\n",
    "\n",
    "AwOT = Sum of length of time of each detection on the array"
   ]
  },
  {
   "cell_type": "code",
   "execution_count": null,
   "metadata": {
    "collapsed": true
   },
   "outputs": [],
   "source": [
    "# From Raw Detection File\n",
    "#with_overlap_ri = ri.residency_index(detfile, calculation_method='aggregate_with_overlap')\n",
    "\n",
    "# From Compressed Detection File\n",
    "with_overlap_ri = ri.residency_index(compressed_file, calculation_method='aggregate_with_overlap')\n",
    "\n",
    "plot_ri(with_overlap_ri)"
   ]
  },
  {
   "cell_type": "markdown",
   "metadata": {},
   "source": [
    "## Aggregate No Overlap Residence Index Calculation\n",
    "The Aggregate With Overlap calculation method takes the length of time of each detection and sums\n",
    "them together. However, any overlap in time between one or more detections is excluded from the sum.\n",
    "\n",
    "\n",
    "For example, if the first detection is from __2016-01-01 01:02:43__ to __2016-01-01 01:10:12__ and the second\n",
    "detection is from __2016-01-01 01:09:01__ to __2016-01-01 01:12:43__, then the sume of those two detections \n",
    "would be 10 minutes.\n",
    "\n",
    "\n",
    "A total is returned once all detections of been added without overlap. The sum for each station is then \n",
    "divided by the sum of the array to determine the residence index.\n",
    "\n",
    "\n",
    "<hr/>\n",
    "# $RI = \\frac{AnOS}{AnOT} $\n",
    "\n",
    "RI = Residence Index\n",
    "\n",
    "AnOS = Sum of length of time of each detection at the station, excluding any overlap\n",
    "\n",
    "AnOT = Sum of length of time of each detection on the array, excluding any overlap"
   ]
  },
  {
   "cell_type": "code",
   "execution_count": null,
   "metadata": {
    "collapsed": true
   },
   "outputs": [],
   "source": [
    "# From Raw Detection File\n",
    "#no_overlap_ri = ri.residency_index(compressed_file, calculation_method='aggregate_no_overlap')\n",
    "\n",
    "# From Compressed Detection File\n",
    "no_overlap_ri = ri.residency_index(compressed_file, calculation_method='aggregate_no_overlap')\n",
    "\n",
    "plot_ri(no_overlap_ri)"
   ]
  }
 ],
 "metadata": {
  "kernelspec": {
   "display_name": "Python 2",
   "language": "python",
   "name": "python2"
  },
  "language_info": {
   "codemirror_mode": {
    "name": "ipython",
    "version": 2
   },
   "file_extension": ".py",
   "mimetype": "text/x-python",
   "name": "python",
   "nbconvert_exporter": "python",
   "pygments_lexer": "ipython2",
   "version": "2.7.11"
  }
 },
 "nbformat": 4,
 "nbformat_minor": 0
}

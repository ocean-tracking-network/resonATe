{
 "cells": [
  {
   "cell_type": "markdown",
   "metadata": {},
   "source": [
    "# Residence Index\n",
    "\n",
    "Kessel et al. Paper https://www.researchgate.net/publication/279269147\n",
    "\n",
    "This residence index tool will take a compressed or uncompressed detection file and caculate the residency \n",
    "index for each station/receiver in the detections. A CSV file will be written to the data directory\n",
    "for future use. A Pandas DataFrame is returned from the function, which can be used to plot the information. \n",
    "The information passed to the function is what is used to calculate the residence index, __make sure you are only\n",
    "passing the data you want taken into consideration for the residence index (i.e. species, stations, tags, etc.)__.\n",
    "\n",
    "\n",
    "__detections:__ The CSV file in the data directory that is either compressed or raw. If the file is not compressed \n",
    "please allow the program time to compress the file and add the rows to the database. A compressed file will be created\n",
    "in the data directory. Use the compressed file for any future runs of the residence index function.\n",
    "\n",
    "\n",
    "__calculation_method:__ The method used to calculate the residence index. Methods are:\n",
    "\n",
    "- kessel \n",
    "- timedelta\n",
    "- aggregate_with_overlap\n",
    "- aggregate_no_overlap.\n",
    "\n",
    "\n",
    "__project_bounds:__ North, South, East, and West bounding longitudes and latitudes for visualization.\n",
    "\n",
    "The calculation methods are listed and described below before they are called. The function will default to the\n",
    "Kessel method when nothing is passed.\n",
    "\n",
    "Below is an example of inital variables to set up, which are the detection file and the project bounds."
   ]
  },
  {
   "cell_type": "code",
   "execution_count": null,
   "metadata": {
    "collapsed": true
   },
   "outputs": [],
   "source": [
    "from otntoolbox import kessel_ri as ri\n",
    "import matplotlib\n",
    "%matplotlib inline\n",
    "\n",
    "project_bounds = {'north': 44.54, \n",
    "                  'south': 42.84, \n",
    "                  'east': -61.93, \n",
    "                  'west': -64.18}\n",
    "\n",
    "\n",
    "detfile = \"/path/to/detection_data.csv\""
   ]
  },
  {
   "cell_type": "markdown",
   "metadata": {},
   "source": [
    "<hr/>\n",
    "## Kessel Residence Index Calculation\n",
    "The Kessel method converts both the startdate and enddate columns into a date with no hours, minutes,\n",
    "or seconds. Next it creates a list of the unique days where a detection was seen. The size of the\n",
    "list is returned as the total number of days as an integer. This calculation is used to determine the \n",
    "total number of distinct days (T) and the total number of distinct days per station (S).\n",
    "\n",
    "$RI = \\frac{S}{T}$\n",
    "\n",
    "RI = Residence Index\n",
    "\n",
    "S = Distinct number of days detected at the station\n",
    "\n",
    "T = Distinct number of days detected anywhere on the array\n",
    "\n",
    "Warning:\n",
    "\n",
    "    Possible rounding error may occur as a detection on ``2016-01-01 23:59:59``\n",
    "    and a detection on ``2016-01-02 00:00:01`` would be counted as two days when it is really 2-3 seconds.\n",
    "    \n",
    "### Example Code"
   ]
  },
  {
   "cell_type": "code",
   "execution_count": null,
   "metadata": {
    "collapsed": true
   },
   "outputs": [],
   "source": [
    "kessel_ri = ri.residency_index(detfile, calculation_method='kessel')\n",
    "\n",
    "ri.plot_ri(kessel_ri, bounds=project_bounds)"
   ]
  },
  {
   "cell_type": "markdown",
   "metadata": {},
   "source": [
    "<hr/>\n",
    "## Timedelta Residence Index Calculation\n",
    "The Timedelta calculation method determines the first startdate of all detections and the last\n",
    "enddate of all detections. The time difference is then taken as the values to be used in \n",
    "calculating the residence index. The timedelta for each station is divided by the timedelta \n",
    "of the array to determine the residence index.\n",
    "\n",
    "$RI = \\frac{\\Delta S}{\\Delta T}$\n",
    "\n",
    "RI = Residence Index\n",
    "\n",
    "$\\Delta S$ = Last detection time at a station - First detection time at the station\n",
    "\n",
    "$\\Delta T$ = Last detection time on an array - First detection time on the array\n",
    "\n",
    "### Example Code"
   ]
  },
  {
   "cell_type": "code",
   "execution_count": null,
   "metadata": {
    "collapsed": true
   },
   "outputs": [],
   "source": [
    "timedelta_ri = ri.residency_index(detfile, calculation_method='timedelta')\n",
    "\n",
    "ri.plot_ri(timedelta_ri, bounds=project_bounds)"
   ]
  },
  {
   "cell_type": "markdown",
   "metadata": {},
   "source": [
    "<hr/>\n",
    "## Aggregate With Overlap Residence Index Calculation\n",
    "The Aggregate With Overlap calculation method takes the length of time of each detection and sums\n",
    "them together. A total is returned. The sum for each station is then divided by the sum of the\n",
    "array to determine the residence index.\n",
    "\n",
    "$RI = \\frac{AwOS}{AwOT} $\n",
    "\n",
    "RI = Residence Index\n",
    "\n",
    "AwOS = Sum of length of time of each detection at the station\n",
    "\n",
    "AwOT = Sum of length of time of each detection on the array\n",
    "\n",
    "### Example Code"
   ]
  },
  {
   "cell_type": "code",
   "execution_count": null,
   "metadata": {
    "collapsed": true
   },
   "outputs": [],
   "source": [
    "with_overlap_ri = ri.residency_index(detfile, calculation_method='aggregate_with_overlap')\n",
    "\n",
    "ri.plot_ri(with_overlap_ri, bounds=project_bounds)"
   ]
  },
  {
   "cell_type": "markdown",
   "metadata": {},
   "source": [
    "<hr/>\n",
    "## Aggregate No Overlap Residence Index Calculation\n",
    "The Aggregate No Overlap calculation method takes the length of time of each detection and sums\n",
    "them together. However, any overlap in time between one or more detections is excluded from the sum.\n",
    "\n",
    "\n",
    "For example, if the first detection is from __2016-01-01 01:02:43__ to __2016-01-01 01:10:12__ and the second\n",
    "detection is from __2016-01-01 01:09:01__ to __2016-01-01 01:12:43__, then the sume of those two detections \n",
    "would be 10 minutes.\n",
    "\n",
    "\n",
    "A total is returned once all detections of been added without overlap. The sum for each station is then \n",
    "divided by the sum of the array to determine the residence index.\n",
    "\n",
    "$RI = \\frac{AnOS}{AnOT} $\n",
    "\n",
    "RI = Residence Index\n",
    "\n",
    "AnOS = Sum of length of time of each detection at the station, excluding any overlap\n",
    "\n",
    "AnOT = Sum of length of time of each detection on the array, excluding any overlap\n",
    "\n",
    "### Example Code"
   ]
  },
  {
   "cell_type": "code",
   "execution_count": null,
   "metadata": {
    "collapsed": true
   },
   "outputs": [],
   "source": [
    "no_overlap_ri = ri.residency_index(detfile, calculation_method='aggregate_no_overlap')\n",
    "\n",
    "ri.plot_ri(no_overlap_ri, project=project_bounds)"
   ]
  },
  {
   "cell_type": "markdown",
   "metadata": {},
   "source": [
    "<hr/>\n",
    "## Interactive Residence Index Map\n",
    "Maps a residence index dataframe using folium and a leaflet tileset, rendering as an interective javascript map and saving the HTML and JSON to an html folder.\n",
    "\n",
    "### Example Code"
   ]
  },
  {
   "cell_type": "code",
   "execution_count": null,
   "metadata": {
    "collapsed": true
   },
   "outputs": [],
   "source": [
    "ri.interactive_map(kessel_ri)"
   ]
  }
 ],
 "metadata": {
  "kernelspec": {
   "display_name": "Python 2",
   "language": "python",
   "name": "python2"
  },
  "language_info": {
   "codemirror_mode": {
    "name": "ipython",
    "version": 2
   },
   "file_extension": ".py",
   "mimetype": "text/x-python",
   "name": "python",
   "nbconvert_exporter": "python",
   "pygments_lexer": "ipython2",
   "version": "2.7.13"
  }
 },
 "nbformat": 4,
 "nbformat_minor": 1
}

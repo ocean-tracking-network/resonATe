{
 "cells": [
  {
   "cell_type": "markdown",
   "metadata": {
    "slideshow": {
     "slide_type": "slide"
    }
   },
   "source": [
    "# Residence Index\n",
    "\n",
    "Kessel et al. Paper https://www.researchgate.net/publication/279269147\n",
    "\n",
    "This residence index tool will take a compressed or uncompressed detection file and caculate the residency \n",
    "index for each station/receiver in the detections. A CSV file will be written to the data directory\n",
    "for future use. A Pandas DataFrame is returned from the function, which can be used to plot the information. \n",
    "The information passed to the function is what is used to calculate the residence index, __make sure you are only\n",
    "passing the data you want taken into consideration for the residence index (i.e. species, stations, tags, etc.)__."
   ]
  },
  {
   "cell_type": "markdown",
   "metadata": {
    "slideshow": {
     "slide_type": "slide"
    }
   },
   "source": [
    "__detections:__ The CSV file in the data directory that is either compressed or raw. If the file is not compressed \n",
    "please allow the program time to compress the file and add the rows to the database. A compressed file will be created\n",
    "in the data directory. Use the compressed file for any future runs of the residence index function.\n",
    "\n",
    "\n",
    "__calculation_method:__ The method used to calculate the residence index. Methods are:\n",
    "\n",
    "- kessel \n",
    "- timedelta\n",
    "- aggregate_with_overlap\n",
    "- aggregate_no_overlap."
   ]
  },
  {
   "cell_type": "markdown",
   "metadata": {
    "slideshow": {
     "slide_type": "slide"
    }
   },
   "source": [
    "__project_bounds:__ North, South, East, and West bounding longitudes and latitudes for visualization.\n",
    "\n",
    "The calculation methods are listed and described below before they are called. The function will default to the\n",
    "Kessel method when nothing is passed.\n",
    "\n",
    "Below is an example of inital variables to set up, which are the detection file and the project bounds."
   ]
  },
  {
   "cell_type": "markdown",
   "metadata": {
    "slideshow": {
     "slide_type": "slide"
    }
   },
   "source": [
    "<span style=\"color:red\">Warning:</span> \n",
    "\n",
    "Input files must include `datecollected`, `station`, `longitude`, `latitude`, `catalognumber`, and `unqdetecid` as columns.\n",
    "\n",
    "OR \n",
    "\n",
    "`dateCollected`, `station`, `decimalLongitude`, `decimalLatitude`, `catalogNumber`, and `unqDetecID` columns."
   ]
  },
  {
   "cell_type": "code",
   "execution_count": null,
   "metadata": {
    "nbpresent": {
     "id": "f9937a63-ab0a-4893-84cf-fd537c26b914"
    },
    "slideshow": {
     "slide_type": "slide"
    }
   },
   "outputs": [],
   "source": [
    "from resonate import residence_index as ri\n",
    "from resonate.determine_format import detect\n",
    "import pandas as pd\n",
    "\n",
    "detections = pd.read_csv('/path/to/detections.csv', low_memory=False)"
   ]
  },
  {
   "cell_type": "markdown",
   "metadata": {
    "slideshow": {
     "slide_type": "slide"
    }
   },
   "source": [
    "## Kessel Residence Index Calculation\n",
    "The Kessel method converts both the startdate and enddate columns into a date with no hours, minutes,\n",
    "or seconds. Next it creates a list of the unique days where a detection was seen. The size of the\n",
    "list is returned as the total number of days as an integer. This calculation is used to determine the \n",
    "total number of distinct days (T) and the total number of distinct days per station (S).\n",
    "\n",
    "$RI = \\frac{S}{T}$\n",
    "\n",
    "RI = Residence Index\n",
    "\n",
    "S = Distinct number of days detected at the station\n",
    "\n",
    "T = Distinct number of days detected anywhere on the array"
   ]
  },
  {
   "cell_type": "markdown",
   "metadata": {
    "slideshow": {
     "slide_type": "slide"
    }
   },
   "source": [
    "Warning:\n",
    "\n",
    "    Possible rounding error may occur as a detection on ``2016-01-01 23:59:59``\n",
    "    and a detection on ``2016-01-02 00:00:01`` would be counted as two days when it is really 2-3 seconds.\n",
    "    "
   ]
  },
  {
   "cell_type": "markdown",
   "metadata": {
    "nbpresent": {
     "id": "7070f37a-b032-4b14-bdda-b5387a3dc13f"
    },
    "slideshow": {
     "slide_type": "slide"
    }
   },
   "source": [
    "### Kessel RI Example Code"
   ]
  },
  {
   "cell_type": "code",
   "execution_count": null,
   "metadata": {
    "nbpresent": {
     "id": "31b78f7f-d641-4040-a1e7-0979373113c5"
    },
    "slideshow": {
     "slide_type": "fragment"
    }
   },
   "outputs": [],
   "source": [
    "kessel_ri = ri.residency_index(detections, calculation_method='kessel', **detect(detections))\n",
    "\n",
    "ri.plot_ri(kessel_ri)"
   ]
  },
  {
   "cell_type": "markdown",
   "metadata": {
    "slideshow": {
     "slide_type": "slide"
    }
   },
   "source": [
    "## Timedelta Residence Index Calculation\n",
    "The Timedelta calculation method determines the first startdate of all detections and the last\n",
    "enddate of all detections. The time difference is then taken as the values to be used in \n",
    "calculating the residence index. The timedelta for each station is divided by the timedelta \n",
    "of the array to determine the residence index.\n",
    "\n",
    "$RI = \\frac{\\Delta S}{\\Delta T}$\n",
    "\n",
    "RI = Residence Index\n",
    "\n",
    "$\\Delta S$ = Last detection time at a station - First detection time at the station\n",
    "\n",
    "$\\Delta T$ = Last detection time on an array - First detection time on the array"
   ]
  },
  {
   "cell_type": "markdown",
   "metadata": {
    "nbpresent": {
     "id": "f91d065a-46dd-4fb6-b33b-2b6a974e49b6"
    },
    "slideshow": {
     "slide_type": "slide"
    }
   },
   "source": [
    "### Timedelta RI Example Code"
   ]
  },
  {
   "cell_type": "code",
   "execution_count": null,
   "metadata": {
    "nbpresent": {
     "id": "47964543-4318-4bb8-a33d-06e265fffc89"
    },
    "slideshow": {
     "slide_type": "fragment"
    }
   },
   "outputs": [],
   "source": [
    "timedelta_ri = ri.residency_index(detections, calculation_method='timedelta', **detect(detections))\n",
    "\n",
    "ri.plot_ri(timedelta_ri)"
   ]
  },
  {
   "cell_type": "markdown",
   "metadata": {
    "slideshow": {
     "slide_type": "slide"
    }
   },
   "source": [
    "## Aggregate With Overlap Residence Index Calculation\n",
    "The Aggregate With Overlap calculation method takes the length of time of each detection and sums\n",
    "them together. A total is returned. The sum for each station is then divided by the sum of the\n",
    "array to determine the residence index.\n",
    "\n",
    "$RI = \\frac{AwOS}{AwOT} $\n",
    "\n",
    "RI = Residence Index\n",
    "\n",
    "AwOS = Sum of length of time of each detection at the station\n",
    "\n",
    "AwOT = Sum of length of time of each detection on the array"
   ]
  },
  {
   "cell_type": "markdown",
   "metadata": {
    "nbpresent": {
     "id": "5843d15c-c157-49ca-b21e-6a8bf6c00bf1"
    },
    "slideshow": {
     "slide_type": "slide"
    }
   },
   "source": [
    "### Aggregate With Overlap RI Example Code"
   ]
  },
  {
   "cell_type": "code",
   "execution_count": null,
   "metadata": {
    "nbpresent": {
     "id": "5d59c1a3-17d8-40aa-a296-b7fa7f36cfc1"
    },
    "slideshow": {
     "slide_type": "fragment"
    }
   },
   "outputs": [],
   "source": [
    "with_overlap_ri = ri.residency_index(detections, calculation_method='aggregate_with_overlap', **detect(detections))\n",
    "\n",
    "ri.plot_ri(with_overlap_ri)"
   ]
  },
  {
   "cell_type": "markdown",
   "metadata": {
    "slideshow": {
     "slide_type": "slide"
    }
   },
   "source": [
    "## Aggregate No Overlap Residence Index Calculation\n",
    "The Aggregate No Overlap calculation method takes the length of time of each detection and sums\n",
    "them together. However, any overlap in time between one or more detections is excluded from the sum.\n",
    "\n",
    "\n",
    "For example, if the first detection is from __2016-01-01 01:02:43__ to __2016-01-01 01:10:12__ and the second\n",
    "detection is from __2016-01-01 01:09:01__ to __2016-01-01 01:12:43__, then the sume of those two detections \n",
    "would be 10 minutes.\n",
    "\n",
    "A total is returned once all detections of been added without overlap. The sum for each station is then \n",
    "divided by the sum of the array to determine the residence index."
   ]
  },
  {
   "cell_type": "markdown",
   "metadata": {
    "slideshow": {
     "slide_type": "slide"
    }
   },
   "source": [
    "$RI = \\frac{AnOS}{AnOT} $\n",
    "\n",
    "RI = Residence Index\n",
    "\n",
    "AnOS = Sum of length of time of each detection at the station, excluding any overlap\n",
    "\n",
    "AnOT = Sum of length of time of each detection on the array, excluding any overlap"
   ]
  },
  {
   "cell_type": "markdown",
   "metadata": {
    "nbpresent": {
     "id": "5ee70cc6-c7c8-4fcd-96b5-3a2ccb58b70c"
    },
    "slideshow": {
     "slide_type": "slide"
    }
   },
   "source": [
    "### Aggregate No Overlap RI Example Code"
   ]
  },
  {
   "cell_type": "code",
   "execution_count": null,
   "metadata": {
    "nbpresent": {
     "id": "00c3cdb4-bc21-4668-b5a3-6ebd1b96efa6"
    },
    "slideshow": {
     "slide_type": "fragment"
    }
   },
   "outputs": [],
   "source": [
    "no_overlap_ri = ri.residency_index(detections, calculation_method='aggregate_no_overlap', **detect(detections))\n",
    "\n",
    "ri.plot_ri(no_overlap_ri, title=\"ANO RI\")"
   ]
  },
  {
   "cell_type": "markdown",
   "metadata": {
    "slideshow": {
     "slide_type": "slide"
    }
   },
   "source": [
    "## Mapbox\n",
    "Alternatively you can use a Mapbox access token plot your map. Mapbox is much for responsive than standard Scattergeo plot."
   ]
  },
  {
   "cell_type": "markdown",
   "metadata": {
    "nbpresent": {
     "id": "2ed280cf-5b5e-4ebe-8f3f-f26150f984dc"
    },
    "slideshow": {
     "slide_type": "slide"
    }
   },
   "source": [
    "### Mapbox Example Code"
   ]
  },
  {
   "cell_type": "code",
   "execution_count": null,
   "metadata": {
    "nbpresent": {
     "id": "6fb5973c-5536-4a2b-8cbc-8ff41cb0e65d"
    },
    "slideshow": {
     "slide_type": "fragment"
    }
   },
   "outputs": [],
   "source": [
    "mapbox_access_token = 'YOUR MAPBOX ACCESS TOKEN HERE'\n",
    "kessel_ri = ri.residency_index(detections, calculation_method='kessel', **detect(detections))\n",
    "ri.plot_ri(kessel_ri, mapbox_token=mapbox_access_token,marker_size=40, scale_markers=True)"
   ]
  }
 ],
 "metadata": {
  "anaconda-cloud": {},
  "kernelspec": {
   "display_name": "nodebook",
   "language": "python",
   "name": "python3"
  },
  "language_info": {
   "codemirror_mode": {
    "name": "ipython",
    "version": 3
   },
   "file_extension": ".py",
   "mimetype": "text/x-python",
   "name": "python",
   "nbconvert_exporter": "python",
   "pygments_lexer": "ipython3",
   "version": "3.9.21"
  },
  "varInspector": {
   "cols": {
    "lenName": 16,
    "lenType": 16,
    "lenVar": 40
   },
   "kernels_config": {
    "python": {
     "delete_cmd_postfix": "",
     "delete_cmd_prefix": "del ",
     "library": "var_list.py",
     "varRefreshCmd": "print(var_dic_list())"
    },
    "r": {
     "delete_cmd_postfix": ") ",
     "delete_cmd_prefix": "rm(",
     "library": "var_list.r",
     "varRefreshCmd": "cat(var_dic_list()) "
    }
   },
   "types_to_exclude": [
    "module",
    "function",
    "builtin_function_or_method",
    "instance",
    "_Feature"
   ],
   "window_display": false
  }
 },
 "nbformat": 4,
 "nbformat_minor": 2
}

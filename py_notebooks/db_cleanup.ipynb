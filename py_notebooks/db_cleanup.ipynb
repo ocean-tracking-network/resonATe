{
 "cells": [
  {
   "cell_type": "code",
   "execution_count": null,
   "metadata": {
    "collapsed": false
   },
   "outputs": [],
   "source": [
    "import common_python.cleanup as cln\n",
    "\n",
    "# Deletes all tables created by these scripts in the database. \n",
    "# Only run this if you're absolutely sure you don't need anything in there.\n",
    "cln.cleanup(\"reqcleanup\")\n",
    "\n",
    "# You can re-run the scripts to get your data back into these tables, of course."
   ]
  }
 ],
 "metadata": {
  "kernelspec": {
   "display_name": "Python 2",
   "language": "python",
   "name": "python2"
  },
  "language_info": {
   "codemirror_mode": {
    "name": "ipython",
    "version": 2
   },
   "file_extension": ".py",
   "mimetype": "text/x-python",
   "name": "python",
   "nbconvert_exporter": "python",
   "pygments_lexer": "ipython2",
   "version": "2.7.11"
  }
 },
 "nbformat": 4,
 "nbformat_minor": 0
}

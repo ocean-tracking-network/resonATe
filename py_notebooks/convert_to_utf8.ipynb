{
 "cells": [
  {
   "cell_type": "code",
   "execution_count": null,
   "metadata": {
    "collapsed": false
   },
   "outputs": [],
   "source": [
    "# Convert the input file to UTF-8 format, to allow the rest of the scripts to read it as input.\n",
    "import common_python.conversion as cnvrt\n",
    "\n",
    "input_file = 'your_file_to_convert.csv'\n",
    "# If you know your input encoding, set it here. Otherwise the script will attempt to detect it.\n",
    "input_encoding = None\n",
    "\n",
    "cnvrt.conversion(input_file, input_encoding)"
   ]
  }
 ],
 "metadata": {
  "kernelspec": {
   "display_name": "Python 2",
   "language": "python",
   "name": "python2"
  },
  "language_info": {
   "codemirror_mode": {
    "name": "ipython",
    "version": 2
   },
   "file_extension": ".py",
   "mimetype": "text/x-python",
   "name": "python",
   "nbconvert_exporter": "python",
   "pygments_lexer": "ipython2",
   "version": "2.7.11"
  }
 },
 "nbformat": 4,
 "nbformat_minor": 0
}

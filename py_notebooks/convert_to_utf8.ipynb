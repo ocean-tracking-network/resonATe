{
 "cells": [
  {
   "cell_type": "markdown",
   "metadata": {},
   "source": [
    "# Convert to utf-8\n",
    "----\n",
    "Use this notebook to convert your input files into utf-8-sig. First you must know you files encoding before you can make a sucessful conversion. A list of availible encodings can be found here <a href=\"https://docs.python.org/2/library/codecs.html#standard-encodings\">https://docs.python.org/2/library/codecs.html#standard-encodings<a>."
   ]
  },
  {
   "cell_type": "code",
   "execution_count": null,
   "metadata": {
    "collapsed": false
   },
   "outputs": [],
   "source": [
    "import pandas as pd\n",
    "# Input csv file\n",
    "input_file = 'your_file_to_convert.csv'\n",
    "input_encoding = 'cp1252' # Change to your file's encoding"
   ]
  },
  {
   "cell_type": "code",
   "execution_count": null,
   "metadata": {
    "collapsed": false
   },
   "outputs": [],
   "source": [
    "# Use this cell if you don't know your file's encoding and it will attempt to detect if for you. Be warned, \n",
    "# chardet is not always perfect so use discretion. \n",
    "import chardet\n",
    "with open(input_file) as fileh:\n",
    "    det = chardet.detect(fileh.read()) # place number of bytes to read in order to limit calculation time on large files\n",
    "    print det"
   ]
  },
  {
   "cell_type": "code",
   "execution_count": null,
   "metadata": {
    "collapsed": false
   },
   "outputs": [],
   "source": [
    "# Input the file into a pandas DataFrame \n",
    "import pandas as pd\n",
    "input_df = pd.read_csv(input_file, encoding=input_encoding)\n",
    "input_df # preview the DataFrame to help confirm proper input encoding"
   ]
  },
  {
   "cell_type": "code",
   "execution_count": null,
   "metadata": {
    "collapsed": false
   },
   "outputs": [],
   "source": [
    "# Convert the input file into utf-8 with Byte order mark (BOM)  \n",
    "input_df.to_csv('D:/Documents/Desktop/out.csv',encoding='utf_8_sig')"
   ]
  }
 ],
 "metadata": {
  "kernelspec": {
   "display_name": "Python 2",
   "language": "python",
   "name": "python2"
  },
  "language_info": {
   "codemirror_mode": {
    "name": "ipython",
    "version": 2
   },
   "file_extension": ".py",
   "mimetype": "text/x-python",
   "name": "python",
   "nbconvert_exporter": "python",
   "pygments_lexer": "ipython2",
   "version": "2.7.12"
  }
 },
 "nbformat": 4,
 "nbformat_minor": 0
}

{
 "cells": [
  {
   "cell_type": "code",
   "execution_count": 2,
   "metadata": {
    "collapsed": false
   },
   "outputs": [
    {
     "name": "stdout",
     "output_type": "stream",
     "text": [
      "Converting file 'detections.csv' from encoding 'windows-1252' to 'utf-8', please wait... OK!\n",
      "File 'detections.csv' has been successfully converted to utf-8 as 'detections_utf8.csv'.\n"
     ]
    },
    {
     "data": {
      "text/plain": [
       "''"
      ]
     },
     "execution_count": 2,
     "metadata": {},
     "output_type": "execute_result"
    }
   ],
   "source": [
    "# Convert the input file to UTF-8 format, to allow the rest of the scripts to read it as input.\n",
    "import common_python.conversion as cnvrt\n",
    "\n",
    "input_file = 'detections.csv'\n",
    "# If you know your input encoding, set it here. Otherwise the script will attempt to detect it.\n",
    "input_encoding = None\n",
    "\n",
    "cnvrt.conversion(input_file, input_encoding)"
   ]
  },
  {
   "cell_type": "code",
   "execution_count": null,
   "metadata": {
    "collapsed": true
   },
   "outputs": [],
   "source": []
  }
 ],
 "metadata": {
  "kernelspec": {
   "display_name": "Python 2",
   "language": "python",
   "name": "python2"
  },
  "language_info": {
   "codemirror_mode": {
    "name": "ipython",
    "version": 2
   },
   "file_extension": ".py",
   "mimetype": "text/x-python",
   "name": "python",
   "nbconvert_exporter": "python",
   "pygments_lexer": "ipython2",
   "version": "2.7.11"
  }
 },
 "nbformat": 4,
 "nbformat_minor": 0
}

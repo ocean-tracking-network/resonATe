{
 "cells": [
  {
   "cell_type": "code",
   "execution_count": null,
   "metadata": {
    "collapsed": true
   },
   "outputs": [],
   "source": [
    "#########\n",
    "# Uses folium to create an interactive map from residence index\n",
    "# CSV files created from the residence_index notebook.\n",
    "#############\n",
    "\n",
    "import folium as fl\n",
    "import pandas as pd\n",
    "import math\n",
    "import common_python.kessel_ri as ri\n",
    "\n",
    "ri_file = '/home/vagrant/data/YOUR RESIDENCE INDEX FILE GOES HERE'\n",
    "\n",
    "#ESRI Ocean Basemap Tileset for use\n",
    "esri_ocean_tileset = 'http://services.arcgisonline.com/arcgis/rest/services/Ocean/World_Ocean_Base/MapServer/tile/{z}/{y}/{x}'"
   ]
  },
  {
   "cell_type": "code",
   "execution_count": null,
   "metadata": {
    "collapsed": true
   },
   "outputs": [],
   "source": [
    "def interactive_map(ri_file, tileset='cartodb positron', marker_size=50, zoom=8):\n",
    "    #Read the csv and and create the Dataframe\n",
    "    ri_data = pd.read_csv(ri_file)\n",
    "    \n",
    "    #create the map with a tileset, defaults to cartodb positron\n",
    "    ri_map = fl.Map(location=[ri_data.latitude.median(), ri_data.longitude.median()], \n",
    "                    tiles=tileset, attr='ESRI', zoom_start=zoom)\n",
    "    \n",
    "    # Add station markers to map\n",
    "    for index, station in ri_data.iterrows():\n",
    "        \n",
    "        #popup string\n",
    "        station_popup = \"%s : %s\" % (station['station'], station['residency_index'])\n",
    "        \n",
    "        # Marker creation, variables can be changed as seen fit\n",
    "        fl.RegularPolygonMarker([station['latitude'],station['longitude']], \n",
    "                        radius=math.ceil(station['residency_index']*marker_size),\n",
    "                        fill_color='red',\n",
    "                        fill_opacity=0.2,\n",
    "                        color='black',\n",
    "                        weight=2,\n",
    "                        number_of_sides=50,\n",
    "                        popup=station_popup).add_to(ri_map)\n",
    "    return ri_map"
   ]
  },
  {
   "cell_type": "code",
   "execution_count": null,
   "metadata": {
    "collapsed": true
   },
   "outputs": [],
   "source": [
    "# Create the map adjust the marker size and the zoom as needed\n",
    "interactive_map(ri_file, marker_size=20, zoom=12)"
   ]
  }
 ],
 "metadata": {
  "kernelspec": {
   "display_name": "Python 2",
   "language": "python",
   "name": "python2"
  },
  "language_info": {
   "codemirror_mode": {
    "name": "ipython",
    "version": 2
   },
   "file_extension": ".py",
   "mimetype": "text/x-python",
   "name": "python",
   "nbconvert_exporter": "python",
   "pygments_lexer": "ipython2",
   "version": "2.7.13"
  }
 },
 "nbformat": 4,
 "nbformat_minor": 1
}

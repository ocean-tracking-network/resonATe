{
 "cells": [
  {
   "cell_type": "code",
   "execution_count": null,
   "metadata": {
    "collapsed": false
   },
   "outputs": [],
   "source": [
    "# ----------------------------------\n",
    "#     Add an uniqdecid to your file\n",
    "# ----------------------------------\n",
    "\n",
    "from common_python.uniqueid import add_column_unqdetecid\n",
    "\n",
    "# CSV file without unqdetecid column\n",
    "input_file = 'input_file_without_unqdetecid.csv'\n",
    "\n",
    "# Creates a new file including the uniqdecid column\n",
    "add_column_unqdetecid(input_file)\n"
   ]
  }
 ],
 "metadata": {
  "kernelspec": {
   "display_name": "Python 2",
   "language": "python",
   "name": "python2"
  },
  "language_info": {
   "codemirror_mode": {
    "name": "ipython",
    "version": 2
   },
   "file_extension": ".py",
   "mimetype": "text/x-python",
   "name": "python",
   "nbconvert_exporter": "python",
   "pygments_lexer": "ipython2",
   "version": "2.7.11"
  }
 },
 "nbformat": 4,
 "nbformat_minor": 0
}

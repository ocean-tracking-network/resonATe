{
 "cells": [
  {
   "cell_type": "markdown",
   "metadata": {},
   "source": [
    "# Unique Detections ID\n",
    "\n",
    "<hr>\n",
    "\n",
    "Adds a unique ID column to your input file. A unique column assigns every detection record a unique numerical value. This column is needed in order to perform operations, such as filter and compression functions.\n",
    "\n",
    "The code below will add a unique detection ID column and return the Pandas dataframe. Choose either to add the **'unqdetecid'** or **'unqDetecID'** (default) column name."
   ]
  },
  {
   "cell_type": "code",
   "execution_count": null,
   "metadata": {
    "collapsed": true
   },
   "outputs": [],
   "source": [
    "from resonate.uniqueid import add_unqdetecid\n",
    "\n",
    "input_file = '/path/to/detections.csv'\n",
    "unqdet_det = add_unqdetecid(input_file, column_name='unqDetecID');"
   ]
  },
  {
   "cell_type": "markdown",
   "metadata": {},
   "source": [
    "You can use the Pandas `DataFrame.to_csv()` function to output the file to a desired location."
   ]
  },
  {
   "cell_type": "code",
   "execution_count": null,
   "metadata": {
    "collapsed": true
   },
   "outputs": [],
   "source": [
    "unqdet_det.to_csv('/path/to/output.csv', index=False)"
   ]
  }
 ],
 "metadata": {
  "kernelspec": {
   "display_name": "nodebook",
   "language": "python",
   "name": "python3"
  },
  "language_info": {
   "codemirror_mode": {
    "name": "ipython",
    "version": 3
   },
   "file_extension": ".py",
   "mimetype": "text/x-python",
   "name": "python",
   "nbconvert_exporter": "python",
   "pygments_lexer": "ipython3",
   "version": "3.9.21"
  }
 },
 "nbformat": 4,
 "nbformat_minor": 1
}

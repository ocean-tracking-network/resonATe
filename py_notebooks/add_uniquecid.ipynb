{
 "cells": [
  {
   "cell_type": "markdown",
   "metadata": {},
   "source": [
    "# Add UNIQUECID\n",
    "----\n",
    "Adds the **uniquecid** column to your input file. The uniquecid column assigns every detection record a unique numerical value. This column is needed in order to perform operations, such as filter and compression functions."
   ]
  },
  {
   "cell_type": "code",
   "execution_count": 2,
   "metadata": {},
   "outputs": [],
   "source": [
    "#%cd /home/user/data/ # uncomment to change the working directory\n",
    "from otntoolbox.uniqueid import add_unqdetecid\n",
    "\n",
    "# CSV file without unqdetecid column\n",
    "input_file = '/Users/alexnunes/Desktop/sandbox/data/nsbs_matched_detections_2014.csv'\n",
    "\n",
    "# Creates a new file including the uniqdecid column\n",
    "unqdet_det = add_unqdetecid(input_file);"
   ]
  },
  {
   "cell_type": "code",
   "execution_count": 3,
   "metadata": {},
   "outputs": [],
   "source": [
    "# Modify and run this cell to save the changes to an output CSV file\n",
    "output_path = '/Users/alexnunes/Desktop/out_detections.csv'\n",
    "unqdet_det.to_csv(output_path, index=False)"
   ]
  },
  {
   "cell_type": "code",
   "execution_count": null,
   "metadata": {
    "collapsed": true
   },
   "outputs": [],
   "source": []
  }
 ],
 "metadata": {
  "kernelspec": {
   "display_name": "Python 2",
   "language": "python",
   "name": "python2"
  },
  "language_info": {
   "codemirror_mode": {
    "name": "ipython",
    "version": 2
   },
   "file_extension": ".py",
   "mimetype": "text/x-python",
   "name": "python",
   "nbconvert_exporter": "python",
   "pygments_lexer": "ipython2",
   "version": "2.7.13"
  }
 },
 "nbformat": 4,
 "nbformat_minor": 1
}

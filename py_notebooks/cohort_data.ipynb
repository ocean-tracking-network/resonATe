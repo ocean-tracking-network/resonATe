{
 "cells": [
  {
   "cell_type": "code",
   "execution_count": null,
   "metadata": {
    "collapsed": false
   },
   "outputs": [],
   "source": [
    "# ---------------------------\n",
    "#     Create cohort file\n",
    "# ---------------------------\n",
    "\n",
    "from common_python.cohorts import CohortRecords\n",
    "\n",
    "# Set your time interval here (in minutes).\n",
    "time_interval = 60\n",
    "\n",
    "# Set your compressed file, created from running the interval data or the compression tool.\n",
    "compressed_file = 'compressed_detections.csv' \n",
    "\n",
    "# Create cohort file\n",
    "CohortRecords(time_interval, compressed_file)"
   ]
  }
 ],
 "metadata": {
  "kernelspec": {
   "display_name": "Python 2",
   "language": "python",
   "name": "python2"
  },
  "language_info": {
   "codemirror_mode": {
    "name": "ipython",
    "version": 2
   },
   "file_extension": ".py",
   "mimetype": "text/x-python",
   "name": "python",
   "nbconvert_exporter": "python",
   "pygments_lexer": "ipython2",
   "version": "2.7.11"
  }
 },
 "nbformat": 4,
 "nbformat_minor": 0
}

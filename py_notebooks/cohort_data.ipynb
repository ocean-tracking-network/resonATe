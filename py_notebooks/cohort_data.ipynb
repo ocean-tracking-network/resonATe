{
 "cells": [
  {
   "cell_type": "markdown",
   "metadata": {},
   "source": [
    "# Cohort\n",
    "\n",
    "<hr>\n",
    "\n",
    "The tool takes a dataframe of compressed detections and a time parameter in minutes. It identifies groups of animals traveling together. Each station an animal visits is checked for other animals detected there within the specified time period. \n",
    "\n",
    "The function returns a dataframe which you can use to help identify animal cohorts. The cohort is created from the compressed data that is a result from the `compress_detections()` function. Pass the compressed dataframe into the `cohort()` function along with a time interval in seconds (default is 3600) to create the cohort dataframe.\n",
    "\n",
    "<span style=\"color:red\">Warning:</span> \n",
    "\n",
    "       Input files must include ``station``, ``catalognumber``,\n",
    "        ``seq_num``, ``unqdetecid``, and ``datecollected`` as columns."
   ]
  },
  {
   "cell_type": "code",
   "execution_count": null,
   "metadata": {
    "collapsed": true
   },
   "outputs": [],
   "source": [
    "from resonate.cohorts import cohort\n",
    "from resonate.compress import compress_detections\n",
    "import pandas as pd\n",
    "\n",
    "time_interval = 3600 # in seconds\n",
    "\n",
    "data = pd.read_csv('/path/to/detections.csv')\n",
    "\n",
    "compressed_df = compress_detections(data)\n",
    "\n",
    "cohort_df = cohort(compressed_df, time_interval)\n",
    "\n",
    "cohort_df"
   ]
  },
  {
   "cell_type": "markdown",
   "metadata": {},
   "source": [
    "You can use the Pandas `DataFrame.to_csv()` function to output the file to a desired location."
   ]
  },
  {
   "cell_type": "code",
   "execution_count": null,
   "metadata": {
    "collapsed": true
   },
   "outputs": [],
   "source": [
    "# Saves the cohort file\n",
    "cohort_df.to_csv('/path/to/output.csv', index=False)"
   ]
  }
 ],
 "metadata": {
  "kernelspec": {
   "display_name": "Python [conda env:anaconda3]",
   "language": "python",
   "name": "conda-env-anaconda3-py"
  },
  "language_info": {
   "codemirror_mode": {
    "name": "ipython",
    "version": 3
   },
   "file_extension": ".py",
   "mimetype": "text/x-python",
   "name": "python",
   "nbconvert_exporter": "python",
   "pygments_lexer": "ipython3",
   "version": "3.6.6"
  }
 },
 "nbformat": 4,
 "nbformat_minor": 2
}

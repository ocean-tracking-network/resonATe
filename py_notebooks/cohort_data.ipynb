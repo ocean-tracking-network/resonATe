{
 "cells": [
  {
   "cell_type": "markdown",
   "metadata": {},
   "source": [
    "# Create cohorts file\n",
    "----\n",
    "Creates a file which you can use to help identify animal cohorts."
   ]
  },
  {
   "cell_type": "code",
   "execution_count": null,
   "metadata": {
    "collapsed": true
   },
   "outputs": [],
   "source": [
    "#%cd /home/user/data/ # uncomment to change the working directory\n",
    "from otntoolbox.cohorts import cohort\n",
    "from otntoolbox.compress import compress_detections\n",
    "import pandas as pd\n",
    "\n",
    "# Set your time interval here (in minutes).\n",
    "time_interval = 60\n",
    "\n",
    "# Supply a compressed detection file \n",
    "# compressed_df = pd.read_csv('\\path\\to\\compressed_detections.csv')\n",
    "\n",
    "# OR\n",
    "\n",
    "# Supply an uncompressed detection file\n",
    "compressed_df = compress_detections(pd.read_csv(''))\n",
    "\n",
    "\n",
    "# Create cohort file\n",
    "cohort_df = cohort(compressed_df, time_interval)\n",
    "\n",
    "# Preview cohort Data\n",
    "cohort_df"
   ]
  },
  {
   "cell_type": "code",
   "execution_count": null,
   "metadata": {
    "collapsed": true
   },
   "outputs": [],
   "source": [
    "# Saves the cohort file\n",
    "cohort_df.to_csv('', index=False)"
   ]
  }
 ],
 "metadata": {
  "kernelspec": {
   "display_name": "Python 2",
   "language": "python",
   "name": "python2"
  },
  "language_info": {
   "codemirror_mode": {
    "name": "ipython",
    "version": 2
   },
   "file_extension": ".py",
   "mimetype": "text/x-python",
   "name": "python",
   "nbconvert_exporter": "python",
   "pygments_lexer": "ipython2",
   "version": "2.7.13"
  }
 },
 "nbformat": 4,
 "nbformat_minor": 1
}

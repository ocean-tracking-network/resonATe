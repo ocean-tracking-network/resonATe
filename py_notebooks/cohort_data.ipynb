{
 "cells": [
  {
   "cell_type": "code",
   "execution_count": 1,
   "metadata": {
    "collapsed": false
   },
   "outputs": [
    {
     "name": "stdout",
     "output_type": "stream",
     "text": [
      "Verifying compressed detections file: 'acs_matched_detections_2012_compressed_detections_v00.csv'... OK!\n",
      "Loading records into compressed_data_temp, Please wait...\n",
      "Cohort records successfully exported to: acs_matched_detections_2012_compressed_detections_v00_cohort_60min.csv with 2934 records.\n"
     ]
    }
   ],
   "source": [
    "# ---------------------------\n",
    "#     Create cohort file\n",
    "# ---------------------------\n",
    "\n",
    "from common_python.cohorts import CohortRecords\n",
    "\n",
    "# Set your time interval here (in minutes).\n",
    "time_interval = 60\n",
    "\n",
    "# Set your compressed file, created from running the interval data or the compression tool.\n",
    "compressed_file = 'acs_matched_detections_2012_compressed_detections_v00.csv' \n",
    "\n",
    "# Create cohort file\n",
    "CohortRecords(time_interval, compressed_file)"
   ]
  },
  {
   "cell_type": "code",
   "execution_count": null,
   "metadata": {
    "collapsed": true
   },
   "outputs": [],
   "source": []
  }
 ],
 "metadata": {
  "kernelspec": {
   "display_name": "Python 2",
   "language": "python",
   "name": "python2"
  },
  "language_info": {
   "codemirror_mode": {
    "name": "ipython",
    "version": 2
   },
   "file_extension": ".py",
   "mimetype": "text/x-python",
   "name": "python",
   "nbconvert_exporter": "python",
   "pygments_lexer": "ipython2",
   "version": "2.7.11"
  }
 },
 "nbformat": 4,
 "nbformat_minor": 0
}

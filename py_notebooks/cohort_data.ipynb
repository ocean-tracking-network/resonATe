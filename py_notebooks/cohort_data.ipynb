{
 "metadata": {
  "name": "",
  "signature": "sha256:d76312553e015c05caa3c05f2bf0145416e36c4b799a070838472cf14b46bd48"
 },
 "nbformat": 3,
 "nbformat_minor": 0,
 "worksheets": [
  {
   "cells": [
    {
     "cell_type": "code",
     "collapsed": false,
     "input": [
      "# ---------------------------\n",
      "#     Create cohort file\n",
      "# ---------------------------\n",
      "\n",
      "from common_python.cohorts import CohortRecords\n",
      "\n",
      "# Set your time interval here (in minutes).\n",
      "time_interval = 60\n",
      "\n",
      "# Set your compressed file, created from running the interval data or the compression tool.\n",
      "compressed_file = 'compressed_detections.csv' \n",
      "\n",
      "# Create cohort file\n",
      "CohortRecords(time_interval, compressed_file)"
     ],
     "language": "python",
     "metadata": {},
     "outputs": [],
     "prompt_number": 1
    }
   ],
   "metadata": {}
  }
 ]
}
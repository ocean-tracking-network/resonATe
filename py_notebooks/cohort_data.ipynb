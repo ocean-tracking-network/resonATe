{
 "cells": [
  {
   "cell_type": "markdown",
   "metadata": {},
   "source": [
    "# Cohort\n",
    "\n",
    "<hr>\n",
    "\n",
    "The tool takes a dataframe of compressed detections and a time parameter in minutes. It identifies groups of animals traveling together. Each station an animal visits is checked for other animals detected there within the specified time period. \n",
    "\n",
    "The function returns a dataframe which you can use to help identify animal cohorts. The cohort is created from the compressed data that is a result from the `compress_detections()` function. Pass the compressed dataframe into the `cohort()` function along with a time interval in seconds (default is 3600) to create the cohort dataframe.\n",
    "\n",
    "<span style=\"color:red\">Warning:</span> \n",
    "\n",
    "Input files must include `station` , `catalognumber`, `unqdetecid`, `latitude`, `longitude`, and `datecollected` as  columns.\n",
    "\n",
    "OR\n",
    "\n",
    "`station` , `catalogNumber`, `unqDetecID`, `decimalLatitude`, `decimalLongitude`, and `dateCollectedUTC` columns."
   ]
  },
  {
   "cell_type": "code",
   "execution_count": null,
   "metadata": {
    "collapsed": true
   },
   "outputs": [],
   "source": [
    "from resonate.cohorts import cohort\n",
    "from resonate.compress import compress_detections\n",
    "from resonate.determine_format import detect\n",
    "import pandas as pd\n",
    "\n",
    "time_interval = 3600 # in seconds\n",
    "\n",
    "data = pd.read_csv('/path/to/detections.csv', low_memory=False)\n",
    "compressed_df = compress_detections(data, **detect(data))"
   ]
  },
  {
   "cell_type": "code",
   "execution_count": null,
   "metadata": {},
   "outputs": [],
   "source": [
    "\n",
    "cohort_df = cohort(compressed_df, time_interval, **detect(data))\n",
    "\n",
    "cohort_df"
   ]
  },
  {
   "cell_type": "markdown",
   "metadata": {},
   "source": [
    "You can use the Pandas `DataFrame.to_csv()` function to output the file to a desired location."
   ]
  },
  {
   "cell_type": "code",
   "execution_count": null,
   "metadata": {
    "collapsed": true
   },
   "outputs": [],
   "source": [
    "# Saves the cohort file\n",
    "cohort_df.to_csv('/path/to/output.csv', index=False)"
   ]
  }
 ],
 "metadata": {
  "kernelspec": {
   "display_name": "nodebook",
   "language": "python",
   "name": "python3"
  },
  "language_info": {
   "codemirror_mode": {
    "name": "ipython",
    "version": 3
   },
   "file_extension": ".py",
   "mimetype": "text/x-python",
   "name": "python",
   "nbconvert_exporter": "python",
   "pygments_lexer": "ipython3",
   "version": "3.9.21"
  }
 },
 "nbformat": 4,
 "nbformat_minor": 2
}

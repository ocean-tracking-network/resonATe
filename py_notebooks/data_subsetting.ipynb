{
 "cells": [
  {
   "cell_type": "code",
   "execution_count": null,
   "metadata": {},
   "outputs": [],
   "source": [
    "import pandas as pd\n",
    "directory = \"/home/vagrant/data/\"\n",
    "filename = \"Your detection file goes here\"\n",
    "data = pd.read_csv(directory+filename)"
   ]
  },
  {
   "cell_type": "code",
   "execution_count": null,
   "metadata": {},
   "outputs": [],
   "source": [
    "#######################################\n",
    "# Subsetting the data by a date range #\n",
    "#######################################\n",
    "\n",
    "# Enter the start date and time in the following format\n",
    "startdate = \"YYYY-MM-DD 00:00:00\"\n",
    "\n",
    "# Enter the end date and time in the following format\n",
    "enddate = \"YYYY-MM-DD 00:00:00\"\n",
    "\n",
    "# Subsets the dat between the two indicated dates uding the datecollected column\n",
    "data_date_subset = data[(data['datecollected'] > startdate) & (data['datecollected'] < enddate)]\n",
    "\n",
    "# Output the subset data to a new CSV in the indicated directory\n",
    "data_date_subset.to_csv(directory+startdate+\"_to_\"+enddate+\"_\"+filename, index=False)"
   ]
  },
  {
   "cell_type": "code",
   "execution_count": null,
   "metadata": {},
   "outputs": [],
   "source": [
    "#######################################\n",
    "# Subsetting the data by column value #\n",
    "#######################################\n",
    "\n",
    "# Enter the column you want to subset\n",
    "column=''\n",
    "\n",
    "# Enter the value you want to find in the above column\n",
    "value=''\n",
    "\n",
    "# The following pulls the new data subset into a Pandas DataFrame\n",
    "data_column_subset=data[data[column]==value]\n",
    "\n",
    "# Output the subset data to a new CSV in the indicated directory\n",
    "data_column_subset.to_csv(directory+column+\"_\"+value.replace(\" \", \"_\")+\"_\"+filename, index=False)"
   ]
  },
  {
   "cell_type": "code",
   "execution_count": null,
   "metadata": {},
   "outputs": [],
   "source": [
    ""
   ]
  }
 ],
 "metadata": {
  "kernelspec": {
   "display_name": "Python 2",
   "language": "python",
   "name": "python2"
  },
  "language_info": {
   "codemirror_mode": {
    "name": "ipython",
    "version": 2.0
   },
   "file_extension": ".py",
   "mimetype": "text/x-python",
   "name": "python",
   "nbconvert_exporter": "python",
   "pygments_lexer": "ipython2",
   "version": "2.7.11"
  }
 },
 "nbformat": 4,
 "nbformat_minor": 0
}
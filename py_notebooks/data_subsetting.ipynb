{
 "cells": [
  {
   "cell_type": "markdown",
   "metadata": {
    "slideshow": {
     "slide_type": "-"
    }
   },
   "source": [
    "## Subsetting Data\n",
    "Sometimes there is too much data for a visualization tool to handle, or you wish to only take a certain subset of your input data and apply it elsewhere.\n",
    "\n",
    "These examples, written in Python and leveraging the Pandas data manipulation package, are meant as a starting point. More complex operations are possible in Pandas, but these should form a baseline of understanding that will cover the most common operations."
   ]
  },
  {
   "cell_type": "code",
   "execution_count": null,
   "metadata": {},
   "outputs": [],
   "source": [
    "import pandas as pd\n",
    "directory = \"/home/vagrant/data/\"  # Working directory. Defaults to the shared data folder.\n",
    "filename = \"Your detection file goes here\"\n",
    "data = pd.read_csv(directory+filename)"
   ]
  },
  {
   "cell_type": "markdown",
   "metadata": {},
   "source": [
    "## Subsetting data by date range\n",
    "Provide a date field, as well as starting and ending date range. By default, the detection date column of a detection extract file is provided."
   ]
  },
  {
   "cell_type": "code",
   "execution_count": null,
   "metadata": {
    "collapsed": true
   },
   "outputs": [],
   "source": [
    "# Enter the column name that contains the date you wish to evaluate\n",
    "datecol = 'datecollected'\n",
    "# Enter the start date in the following format\n",
    "startdate = \"YYYY-MM-DD\"\n",
    "\n",
    "# Enter the end date in the following format\n",
    "enddate = \"YYYY-MM-DD\"\n",
    "\n",
    "# Subsets the dat between the two indicated dates uding the datecollected column\n",
    "data_date_subset = data[(data[datecol] > startdate) & (data[datecol] < enddate)]\n",
    "\n",
    "# Output the subset data to a new CSV in the indicated directory\n",
    "data_date_subset.to_csv(directory+startdate+\"_to_\"+enddate+\"_\"+filename, index=False)"
   ]
  },
  {
   "cell_type": "markdown",
   "metadata": {},
   "source": [
    "## Subsetting on column value\n",
    "Provide the column you expect to have a certain value and the value you'd like to create a subset from."
   ]
  },
  {
   "cell_type": "code",
   "execution_count": null,
   "metadata": {
    "collapsed": true
   },
   "outputs": [],
   "source": [
    "# Enter the column you want to subset\n",
    "column=''\n",
    "\n",
    "# Enter the value you want to find in the above column\n",
    "value=''\n",
    "\n",
    "# The following pulls the new data subset into a Pandas DataFrame\n",
    "data_column_subset=data[data[column]==value]\n",
    "\n",
    "# Output the subset data to a new CSV in the indicated directory\n",
    "data_column_subset.to_csv(directory+column+\"_\"+value.replace(\" \", \"_\")+\"_\"+filename, index=False)"
   ]
  },
  {
   "cell_type": "code",
   "execution_count": null,
   "metadata": {
    "collapsed": true
   },
   "outputs": [],
   "source": []
  }
 ],
 "metadata": {
  "kernelspec": {
   "display_name": "Python 2",
   "language": "python",
   "name": "python2"
  },
  "language_info": {
   "codemirror_mode": {
    "name": "ipython",
    "version": 2
   },
   "file_extension": ".py",
   "mimetype": "text/x-python",
   "name": "python",
   "nbconvert_exporter": "python",
   "pygments_lexer": "ipython2",
   "version": "2.7.13"
  }
 },
 "nbformat": 4,
 "nbformat_minor": 1
}

{
 "cells": [
  {
   "cell_type": "code",
   "execution_count": null,
   "metadata": {
    "collapsed": false
   },
   "outputs": [],
   "source": [
    "# ---------------------------\n",
    "#     Compress your detections\n",
    "# ---------------------------\n",
    "\n",
    "from common_python.compress import CompressDetections\n",
    "\n",
    "# detection file (uncompressed)\n",
    "detection_file = 'detections.csv'\n",
    "\n",
    "# Runs the compression operation and exports the compressed detection file\n",
    "CompressDetections(detection_file=detection_file)"
   ]
  }
 ],
 "metadata": {
  "kernelspec": {
   "display_name": "Python 2",
   "language": "python",
   "name": "python2"
  },
  "language_info": {
   "codemirror_mode": {
    "name": "ipython",
    "version": 2
   },
   "file_extension": ".py",
   "mimetype": "text/x-python",
   "name": "python",
   "nbconvert_exporter": "python",
   "pygments_lexer": "ipython2",
   "version": "2.7.11"
  }
 },
 "nbformat": 4,
 "nbformat_minor": 0
}

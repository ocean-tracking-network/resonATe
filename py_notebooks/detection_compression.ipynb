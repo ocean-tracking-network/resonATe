{
 "cells": [
  {
   "cell_type": "markdown",
   "metadata": {},
   "source": [
    "# Detections Compression\n",
    "\n",
    "<hr>\n",
    "\n",
    "Compresses your detection files. Compressed detection files are needed for the tools, such as interval and cohort. \n",
    "\n",
    "<span style=\"color:red\">Warning:</span> \n",
    "<br>Input files must include `dataecollected`, `catalognumber`, and `unqdetecid` as columns."
   ]
  },
  {
   "cell_type": "code",
   "execution_count": null,
   "metadata": {
    "collapsed": true
   },
   "outputs": [],
   "source": [
    "from otntoolbox.compress import compress_detections\n",
    "import pandas as pd\n",
    "\n",
    "detections = pd.read_csv('/path/to/data.csv')\n",
    "\n",
    "compressed = compress_detections(detections=detections)"
   ]
  },
  {
   "cell_type": "markdown",
   "metadata": {},
   "source": [
    "You can use the Pandas `DataFrame.to_csv()` function to output the file to a desired location."
   ]
  },
  {
   "cell_type": "code",
   "execution_count": null,
   "metadata": {
    "collapsed": true
   },
   "outputs": [],
   "source": [
    "compressed.to_csv('/path/to/output.csv', index=False)"
   ]
  }
 ],
 "metadata": {
  "kernelspec": {
   "display_name": "Python 2",
   "language": "python",
   "name": "python2"
  },
  "language_info": {
   "codemirror_mode": {
    "name": "ipython",
    "version": 2
   },
   "file_extension": ".py",
   "mimetype": "text/x-python",
   "name": "python",
   "nbconvert_exporter": "python",
   "pygments_lexer": "ipython2",
   "version": "2.7.13"
  }
 },
 "nbformat": 4,
 "nbformat_minor": 1
}

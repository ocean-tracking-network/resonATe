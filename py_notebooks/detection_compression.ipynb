{
 "cells": [
  {
   "cell_type": "code",
   "execution_count": 2,
   "metadata": {
    "collapsed": false
   },
   "outputs": [
    {
     "name": "stdout",
     "output_type": "stream",
     "text": [
      "Verifying detection file: 'acs_matched_detections_2012.csv'... OK!\n",
      "Loading records into acs_matched_detections_2012_v00, Please wait...\n",
      "Creating geometry column for st_setsrid_4326, identified as WKB\n",
      "Populating geometry column with ST_GeomFromEWKB\n",
      "File loaded successfully! Detection Count: 90331\n",
      "Loading complete. Created/populated 1 tables\n",
      "Using acs_matched_detections_2012_v00 table with 90331 records for compression. Please Wait...\n",
      "Table acs_matched_detections_2012_v00 compressed in table mv_anm_compressed with 7814 records.\n",
      "Compressed detection file exported to: acs_matched_detections_2012_compressed_detections_v00.csv.\n"
     ]
    },
    {
     "data": {
      "text/plain": [
       "'/home/vagrant/data/acs_matched_detections_2012_compressed_detections_v00.csv'"
      ]
     },
     "execution_count": 2,
     "metadata": {},
     "output_type": "execute_result"
    }
   ],
   "source": [
    "# ---------------------------\n",
    "#     Compress your detections\n",
    "# ---------------------------\n",
    "\n",
    "from common_python.compress import CompressDetections\n",
    "\n",
    "# detection file (uncompressed)\n",
    "detection_file = 'acs_matched_detections_2012.csv'\n",
    "\n",
    "# Runs the compression operation and exports the compressed detection file\n",
    "CompressDetections(detection_file=detection_file)"
   ]
  },
  {
   "cell_type": "code",
   "execution_count": null,
   "metadata": {
    "collapsed": false
   },
   "outputs": [],
   "source": []
  }
 ],
 "metadata": {
  "kernelspec": {
   "display_name": "Python 2",
   "language": "python",
   "name": "python2"
  },
  "language_info": {
   "codemirror_mode": {
    "name": "ipython",
    "version": 2
   },
   "file_extension": ".py",
   "mimetype": "text/x-python",
   "name": "python",
   "nbconvert_exporter": "python",
   "pygments_lexer": "ipython2",
   "version": "2.7.11"
  }
 },
 "nbformat": 4,
 "nbformat_minor": 0
}

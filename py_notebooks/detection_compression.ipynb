{
 "cells": [
  {
   "cell_type": "markdown",
   "metadata": {},
   "source": [
    "# Detections Compression\n",
    "----\n",
    "Compresses your detection files. Compressed detection files are needed for the tools, such as interval and cohort. <span style=\"color:red\">Important:</span> Input files must include the following manadatory columns: dataecollected, catalognumber and unqdetecid."
   ]
  },
  {
   "cell_type": "code",
   "execution_count": null,
   "metadata": {
    "collapsed": false
   },
   "outputs": [],
   "source": [
    "#%cd /home/user/data/ # uncomment to change the working directory\n",
    "from common_python.compress import compress_detections\n",
    "import pandas as pd\n",
    "\n",
    "# Input detection file (uncompressed) file -> pandas DataFrame object\n",
    "detections = pd.read_csv('/path/to/detections.csv')\n",
    "\n",
    "# Runs the compression operation and exports the compressed detection file\n",
    "compressed = compress_detections(detections=detections)\n",
    "compressed # preview compression"
   ]
  },
  {
   "cell_type": "code",
   "execution_count": null,
   "metadata": {
    "collapsed": true
   },
   "outputs": [],
   "source": [
    "# Save your compressed detection DataFrame to a CSV \n",
    "copmppressed.to_csv('/path/to/compression_output.csv')"
   ]
  }
 ],
 "metadata": {
  "kernelspec": {
   "display_name": "Python 2",
   "language": "python",
   "name": "python2"
  },
  "language_info": {
   "codemirror_mode": {
    "name": "ipython",
    "version": 2
   },
   "file_extension": ".py",
   "mimetype": "text/x-python",
   "name": "python",
   "nbconvert_exporter": "python",
   "pygments_lexer": "ipython2",
   "version": "2.7.12"
  }
 },
 "nbformat": 4,
 "nbformat_minor": 0
}

{
 "cells": [
  {
   "cell_type": "markdown",
   "metadata": {},
   "source": [
    "#     Interval Data \n",
    "\n",
    "Creates a compressed detections table and an interval data file.\n",
    "Intervals are lengths of time in which a station detected an animal.\n",
    "Many consecutive detections of an animal are replaced by one interval."
   ]
  },
  {
   "cell_type": "code",
   "execution_count": null,
   "metadata": {
    "collapsed": false
   },
   "outputs": [],
   "source": [
    "import common_python.interval_data_tool as inter_data\n",
    "\n",
    "detection_file = \"\"      # USER: And provide the filename here\n",
    "\n",
    "# Supply your own custom dist_matrix_filename here.\n",
    "dist_matrix_file = \"distance_matrix_filename.csv\"\n",
    "\n",
    "inter_data.intervalData(detection_file, dist_matrix_file)"
   ]
  }
 ],
 "metadata": {
  "kernelspec": {
   "display_name": "Python 2",
   "language": "python",
   "name": "python2"
  },
  "language_info": {
   "codemirror_mode": {
    "name": "ipython",
    "version": 2
   },
   "file_extension": ".py",
   "mimetype": "text/x-python",
   "name": "python",
   "nbconvert_exporter": "python",
   "pygments_lexer": "ipython2",
   "version": "2.7.11"
  }
 },
 "nbformat": 4,
 "nbformat_minor": 0
}

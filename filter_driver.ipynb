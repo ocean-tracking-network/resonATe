{
 "cells": [
  {
   "cell_type": "code",
   "execution_count": 1,
   "metadata": {
    "collapsed": false
   },
   "outputs": [
    {
     "ename": "ERROR",
     "evalue": "Error in python.exec(python.command): could not connect to server: Connection refused\n\tIs the server running on host \"127.0.0.1\" and accepting\n\tTCP/IP connections on port 5432?\n\n",
     "output_type": "error",
     "traceback": [
      "Error in python.exec(python.command): could not connect to server: Connection refused\n\tIs the server running on host \"127.0.0.1\" and accepting\n\tTCP/IP connections on port 5432?\n\n"
     ]
    }
   ],
   "source": [
    "################ Libraries ###################\n",
    "#set current working directory\n",
    "\n",
    "source(\"common_r/load_python_scripts.r\")\n",
    "\n",
    "############### Switches ################\n",
    "SuspectDetections  <- TRUE  # used by function loadDetections()\n",
    "                     #TRUE will create list of suspect detections\n",
    "                     #FALSE will not create a new file of suspect detections\n",
    "DistanceMatrix  <- TRUE # used by functions loadDetections() and filterDetections()\n",
    "                  #TRUE will create distance matrix\n",
    "                  #FALSE will not create a new distance matrix file\n",
    "OverrideSuspectDetectionFile <- FALSE # used by function filterDetections()\n",
    "                               #FALSE will use the default file of suspect detections created from the loadDetections() step\n",
    "                               #TRUE will use override file of suspect detections that you provide\n",
    "ReloadInputFile <- FALSE    # used by function loadDetections()\n",
    "                  #TRUE will always reload input detection file\n",
    "                  #FALSE will use already loaded input detection file\n",
    "\n",
    "\n",
    "################ User Input ################\n",
    "detection_file   <- 'detections.csv' #Detection file input name\n",
    "input_version_id <- '00'             #Version ID number [0 for initial(first) load]\n",
    "time_interval    <- '60'             #Time interval used to evaluate suspect detections (in minutes)\n",
    "\n",
    "detection_radius <- ''               # Average Distance from receviers, in meters, tags can be detected\n",
    "# There will be an opportunity later to change values for individual stations\n",
    "# If entered: Value must be between 0 and 999\n",
    "\n",
    "\n",
    "################ Detection Processing Functions ################\n",
    "\n",
    "################ Function Find Suspect Detections ################\n",
    "#loads the detection input file into a database and optionally creates the suspect detection file and station distance matrix file\n",
    "#To save time input file will not be reloaded if version id does not change. If your initial file has changed you need to rename it to get it to load\n",
    "\n",
    "loadDetections() #message \"loading complete\" will appear when process is done\n",
    "\n",
    "################  Function Filter Detections  ################\n",
    "#returns a new detections file without the suspected detections which will have version id incremented\n",
    "#uses as input file of detections and file of suspect detections creating in previous step\n",
    "#will create a new distance matrix with version id incremented (if distance_matrix is set to TRUE)\n",
    "\n",
    "if (OverrideSuspectDetectionFile == TRUE) {\n",
    "  SuspectFile <- 'your override file name here.csv'\n",
    "}\n",
    "filterDetections() #message \"filtering complete\" will appear when process is done"
   ]
  },
  {
   "cell_type": "code",
   "execution_count": null,
   "metadata": {
    "collapsed": true
   },
   "outputs": [],
   "source": []
  }
 ],
 "metadata": {
  "kernelspec": {
   "display_name": "R",
   "language": "R",
   "name": "ir"
  },
  "language_info": {
   "codemirror_mode": "r",
   "file_extension": ".r",
   "mimetype": "text/x-r-source",
   "name": "R",
   "pygments_lexer": "r",
   "version": "3.2.1"
  }
 },
 "nbformat": 4,
 "nbformat_minor": 0
}

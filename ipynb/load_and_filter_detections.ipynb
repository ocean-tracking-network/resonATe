{
 "metadata": {
  "name": "",
  "signature": "sha256:045e3aa68f9e120d2d79b3a02eb3b57320f1f6835c5d8b5d082dcc69d92f2d06"
 },
 "nbformat": 3,
 "nbformat_minor": 0,
 "worksheets": [
  {
   "cells": [
    {
     "cell_type": "code",
     "collapsed": false,
     "input": [
      "# -------------------------------\n",
      "#     Loading Your Detections\n",
      "# -------------------------------\n",
      "#  Use the variables below to point the Toolbox scripts at your data.\n",
      "#  Fill in the strings that are commented with # USER:  \n",
      "#  then highlight a cell and hit Run Cell (play button above)\n",
      "\n",
      "from common_python.load_detections import loadDetections\n",
      "from common_python.filter_detections import filterDetections\n",
      "\n",
      "# Set some variables\n",
      "detection_file = 'detections.csv'      # USER: And provide the filename here\n",
      "time_interval = 60\n",
      "version_id = ''\n",
      "\n",
      "# Create a suspect detections file?\n",
      "SuspectDetections = False\n",
      "\n",
      "# If you'd like to create a distance matrix for the stations in this detection file, \n",
      "# leave DistanceMatrix = True\n",
      "DistanceMatrix = False\n",
      "ReloadInputFile = True\n",
      "\n",
      "table_names = loadDetections(detection_file, version_id, DistanceMatrix, \n",
      "                   ReloadInputFile, SuspectDetections, time_interval) # Wait for output below to say 'Loading complete.'"
     ],
     "language": "python",
     "metadata": {},
     "outputs": []
    },
    {
     "cell_type": "code",
     "collapsed": false,
     "input": [
      "# -----------------------------------------------\n",
      "#     Filtering Detections on Distance / Time\n",
      "#\n",
      "# -----------------------------------------------\n",
      "\n",
      "# Tables created by this script and the script above are returned by \n",
      "# loadDetections() and listed in the 'table_names' variable.\n",
      "# Types of table are Detection, station matrix, and suspect \n",
      "\n",
      "\n",
      "# If you have your own file of suspect detections, point to it here \n",
      "# and set OverrideSuspectDetectionFile to 'True':\n",
      "OverrideSuspectDetectionFile = None\n",
      "# Can replace the generated Suspect Detections file with your hand-edited file of suspect detections\n",
      "SuspectFile = None # '/home/sandbox/data/sandbox/My_Suspect_Detections_File.csv' \n",
      "\n",
      "filterDetections(detection_file, version_id, SuspectFile, \n",
      "                     OverrideSuspectDetectionFile, DistanceMatrix, \n",
      "                     ReloadInputFile)  # Wait for Out[] to say 'Filtering complete.'"
     ],
     "language": "python",
     "metadata": {},
     "outputs": []
    },
    {
     "cell_type": "code",
     "collapsed": false,
     "input": [
      "# ---------------------\n",
      "#     Interval Data \n",
      "# ---------------------\n",
      "\n",
      "# Creates a compressed detections table and an interval data file\n",
      "# Intervals are lengths of time in which a station detected an animal.\n",
      "# Many consecutive detections of an animal are replaced by one interval\n",
      "\n",
      "import common_python.interval_data_tool as inter_data\n",
      "\n",
      "dist_matrix_file = \"%s_distance_matrix_%s.%s\" % (detection_file.split('.')[0], table_names['detections'].split('_')[-1], detection_file.split('.')[1])\n",
      "# Or supply your own custom dist_matrix_filename here.\n",
      "# dist_matrix_file = \"my_custom_distance_matrix_filename.csv\"\n",
      "\n",
      "inter_data.intervalData(detection_file, dist_matrix_file)"
     ],
     "language": "python",
     "metadata": {},
     "outputs": []
    },
    {
     "cell_type": "code",
     "collapsed": false,
     "input": [
      "# ---------------------------\n",
      "#    Distance Matrix Merge\n",
      "# ---------------------------\n",
      "\n",
      "# Merge two distance matrix files together. Useful for overriding distances \n",
      "# between stations that are not straight-line distances (ie river systems)\n",
      "\n",
      "import common_python.dis_mtrx_merge as dis\n",
      "\n",
      "# Merge two Distance Matrix files, letting the duplicate pair-distance values \n",
      "\n",
      "dist_matrix_file = \"%s_distance_matrix_v00.%s\" % tuple(ld.detection_file.split('.')) # the full file that you had before\n",
      "# dist_matrix_file = 'my_custom_distance_matrix_filename.csv'\n",
      "\n",
      "# The file that has only the stations that require an overridden value for the distance between them \n",
      "# (in cases of stations with land or other obstacles between them which make a straight-line distance incorrect.\n",
      "distance_real_input = 'your_manually_edited_distance_matrix.csv'\n",
      "\n",
      "\n",
      "dis.dis_mtx_merge('reqmerge', dist_matrix_file, distance_real_input)"
     ],
     "language": "python",
     "metadata": {},
     "outputs": []
    },
    {
     "cell_type": "code",
     "collapsed": false,
     "input": [],
     "language": "python",
     "metadata": {},
     "outputs": []
    }
   ],
   "metadata": {}
  }
 ]
}
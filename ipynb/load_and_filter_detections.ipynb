{
 "worksheets": [
  {
   "cells": [
    {
     "cell_type": "code",
     "metadata": {},
     "outputs": [
      {
       "output_type": "stream",
       "stream": "stdout",
       "text": [
        "Loading records into nsbs_pre_extract_v00, Please wait...\n",
        "Error: Missing/Extra data, please fix input file and rerun load_detections()."
       ]
      },
      {
       "output_type": "stream",
       "stream": "stdout",
       "text": [
        "\n",
        "extra data after last expected column\n",
        "CONTEXT:  COPY nsbs_pre_extract_v00, line 2: \"NSBS,NSBS-Hooker,Prionace glauca,blue shark,2014-10-31,HFX,HFX,HFX059(lost/found),308(lost/found)(lo...\"\n",
        "\n",
        "Error loading detections.\n"
       ]
      },
      {
       "output_type": "pyout",
       "prompt_number": 4,
       "text": [
        "'Exiting...'"
       ],
       "metadata": {}
      }
     ],
     "input": [
      "# -------------------------------\n",
      "#     Loading Your Detections\n",
      "# -------------------------------\n",
      "\n",
      "import os, sys\n",
      "import common_python.load_detections as ld\n",
      "import common_python.filter_detections as fd\n",
      "\n",
      "# Set current working directory\n",
      "os.chdir(\"/home/sandbox/RStudio/sandbox\")\n",
      "\n",
      "# Set some variables\n",
      "ld.delimiter = ','\n",
      "ld.data_directory = '/home/sandbox/RStudio/data/'       # Add your detection files to this folder\n",
      "ld.detection_file = 'your_csv_detections_here.csv'      # And provide the filename here\n",
      "ld.time_interval = 60\n",
      "ld.version_id = ''\n",
      "ld.encoding = 'utf-8'\n",
      "ld.quotechar = '\"'\n",
      "\n",
      "# Create a suspect detections file?\n",
      "ld.SuspectDetections = True\n",
      "\n",
      "# If you'd like to create a distance matrix for the stations in this detection file, leave DistanceMatrix = True\n",
      "ld.DistanceMatrix = True\n",
      "ld.ReloadInputFile = False\n",
      "\n",
      "table_name = ld.loadDetections() # Wait for Out[] to say 'Loading complete.'"
     ],
     "language": "python",
     "prompt_number": 4
    },
    {
     "cell_type": "code",
     "metadata": {},
     "outputs": [
      {
       "output_type": "stream",
       "stream": "stdout",
       "text": [
        "Using suspect detection file: ../data/nsbs_matched_detections_2014_suspect_v00.csv\n",
        "file \"nsbs_matched_detections_2014.csv\" already loaded with 2681 records.\n",
        "Loading records into suspects, Please wait..."
       ]
      },
      {
       "output_type": "stream",
       "stream": "stdout",
       "text": [
        "\n",
        "2681 suspect detections removed"
       ]
      },
      {
       "output_type": "stream",
       "stream": "stdout",
       "text": [
        "\n",
        "Total detections in output file: 0\n",
        "Detection file saved to: (../data/nsbs_matched_detections_2014_v01.csv)\n",
        "Station distance matrix exported to: ../data/nsbs_matched_detections_2014_distance_matrix_v01.csv"
       ]
      },
      {
       "output_type": "stream",
       "stream": "stdout",
       "text": [
        "\n",
        "There are 0 station matrix pairs\n"
       ]
      },
      {
       "output_type": "pyout",
       "prompt_number": 16,
       "text": [
        "'Filtering complete.'"
       ],
       "metadata": {}
      }
     ],
     "input": [
      "# -----------------------------------------------\n",
      "#     Filtering Detections on Distance / Time\n",
      "# -----------------------------------------------\n",
      "\n",
      "# Set all the filter_detections globals to match what we said in load_detections. Can't wait to be free of this.\n",
      "# Dear end-user, please ignore this part.\n",
      "fd.DistanceMatrix = ld.DistanceMatrix\n",
      "fd.delimiter = ld.delimiter\n",
      "fd.data_directory = ld.data_directory\n",
      "fd.detection_file = ld.detection_file\n",
      "fd.time_interval = ld.time_interval\n",
      "fd.version_id = ld.version_id\n",
      "fd.encoding = ld.encoding\n",
      "fd.quotechar = ld.quotechar\n",
      "fd.ReloadInputFile = ld.ReloadInputFile\n",
      "\n",
      "\n",
      "# If you have your own file of suspect detections, point to it here and set OverrideSuspectDetectionFile to 'True':\n",
      "fd.OverrideSuspectDetectionFile = None\n",
      "fd.SuspectFile = None # '/home/sandbox/data/sandbox/My_Suspect_Detections_File.csv'\n",
      "fd.filterDetections()  # Wait for Out[] to say 'Filtering complete.'"
     ],
     "language": "python",
     "prompt_number": 16
    },
    {
     "cell_type": "code",
     "metadata": {},
     "outputs": [
      {
       "output_type": "stream",
       "stream": "stdout",
       "text": [
        "Verifying Detection file: 'nsbs_matched_detections_2013.csv'... "
       ]
      },
      {
       "output_type": "stream",
       "stream": "stdout",
       "text": [
        "OK!\n",
        "Verifying Distance Matrix file: 'nsbs_matched_detections_2013_distance_matrix_v00.csv'... OK!\n",
        "Loading Detection file: 'nsbs_matched_detections_2013.csv'... "
       ]
      },
      {
       "output_type": "stream",
       "stream": "stdout",
       "text": [
        "OK!\n",
        "Loading Distance Matrix file: 'nsbs_matched_detections_2013_distance_matrix_v00.csv'... OK!\n",
        "Exporting data..."
       ]
      },
      {
       "output_type": "stream",
       "stream": "stdout",
       "text": [
        "\n",
        "OK!"
       ]
      },
      {
       "output_type": "stream",
       "stream": "stdout",
       "text": [
        "\n",
        "Compressed detections exported to: nsbs_matched_detections_2013_compressed_detections_v00.csv containing 3246 records.\n",
        "Interval data exported to: nsbs_matched_detections_2013_interval_data_v00.csv containing 3246 records.\n"
       ]
      },
      {
       "output_type": "pyout",
       "prompt_number": 10,
       "text": [
        "''"
       ],
       "metadata": {}
      }
     ],
     "input": [
      "# ---------------------\n",
      "#     Interval Data \n",
      "# ---------------------\n",
      "\n",
      "# Creates a compressed detections table and an interval data file\n",
      "\n",
      "import common_python.interval_data_tool as idt\n",
      "\n",
      "dist_matrix_file = \"%s_distance_matrix_%s.%s\" % (ld.version_id, tuple(ld.detection_file.split('.'))\n",
      "# Or supply your own custom dist_matrix_filename here.\n",
      "# dist_matrix_file = \"my_custom_distance_matrix_filename.csv\"\n",
      "\n",
      "idt.intervalData(fd.detection_file, dist_matrix_file)"
     ],
     "language": "python",
     "prompt_number": 10
    },
    {
     "cell_type": "code",
     "metadata": {},
     "outputs": [
      {
       "output_type": "pyout",
       "prompt_number": 5,
       "text": [
        "'File /home/sandbox/RStudio/sandbox/common_python/../../data/nsbs_matched_detections_2014_distance_matrix_v01.csv does not exist'"
       ],
       "metadata": {}
      }
     ],
     "input": [
      "# ---------------------------\n",
      "#    Distance Matrix Merge\n",
      "# ---------------------------\n",
      "\n",
      "import common_python.dis_mtrx_merge as dis\n",
      "\n",
      "# Merge two Distance Matrix files, letting the duplicate pair-distance values \n",
      "\n",
      "dist_matrix_file = \"%s_distance_matrix_v00.%s\" % tuple(ld.detection_file.split('.')) # the full file that you had before\n",
      "# dist_matrix_file = 'my_custom_distance_matrix_filename.csv'\n",
      "\n",
      "# The file that has only the stations that require an overridden value for the distance between them \n",
      "# (in cases of stations with land or other obstacles between them which make a straight-line distance incorrect.\n",
      "distance_real_input = 'nsbs_matched_detections_2014_distance_matrix_v01.csv'\n",
      "\n",
      "\n",
      "dis.dis_mtx_merge('reqmerge', dist_matrix_file, distance_real_input)"
     ],
     "language": "python",
     "prompt_number": 5
    },
    {
     "cell_type": "code",
     "metadata": {},
     "outputs": [],
     "input": [
      ""
     ],
     "language": "python"
    }
   ]
  }
 ],
 "cells": [],
 "metadata": {
  "name": "",
  "signature": "sha256:b0450d078480732f36275109806975120070a40bb97cd1a96326567f4a5e7dfd"
 },
 "nbformat": 3,
 "nbformat_minor": 0
}
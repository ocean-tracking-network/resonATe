{
 "metadata": {
  "name": "",
  "signature": "sha256:9e7e1d18cd4b56635df61e9c2f214f58d17b8c24b1a71c85154216278fa84606"
 },
 "nbformat": 3,
 "nbformat_minor": 0,
 "worksheets": [
  {
   "cells": [
    {
     "cell_type": "code",
     "collapsed": false,
     "input": [
      "\n",
      "# -------------------------------\n",
      "#     Loading Your Detections\n",
      "# -------------------------------\n",
      "#  Use the variables below to point the Toolbox scripts at your data.\n",
      "#  Fill in the strings that are commented with # USER:  \n",
      "#  then highlight a cell and hit Run Cell (play button above)\n",
      "\n",
      "import os, sys\n",
      "import common_python.load_detections as ld\n",
      "import common_python.filter_detections as fd\n",
      "\n",
      "# Set current working directory\n",
      "os.chdir(\"/home/sandbox/RStudio/sandbox\")\n",
      "\n",
      "# Set some variables\n",
      "ld.delimiter = ','\n",
      "ld.data_directory = '/home/sandbox/RStudio/data/'           # USER: Add your detection files to this folder\n",
      "ld.detection_file = 'nsbs_matched_detections_2014.csv'      # USER: And provide the filename here\n",
      "ld.time_interval = 60\n",
      "ld.version_id = ''\n",
      "ld.encoding = 'utf-8'\n",
      "ld.quotechar = '\"'\n",
      "\n",
      "# Create a suspect detections file?\n",
      "ld.SuspectDetections = False\n",
      "\n",
      "# If you'd like to create a distance matrix for the stations in this detection file, \n",
      "# leave DistanceMatrix = True\n",
      "ld.DistanceMatrix = False\n",
      "ld.ReloadInputFile = True\n",
      "\n",
      "table_names = ld.loadDetections() # Wait for output below to say 'Loading complete.'"
     ],
     "language": "python",
     "metadata": {},
     "outputs": [
      {
       "output_type": "stream",
       "stream": "stdout",
       "text": [
        "Loading records into nsbs_matched_detections_2014_v00, Please wait...\n",
        "[['unqdetecid'], ['citation'], ['notes'], ['local_area'], ['datereleasedpublic'], ['datereleasedtagger'], ['timeofday'], ['julianday'], ['daycollected'], ['monthcollected'], ['yearcollected'], ['st_setsrid_4326'], ['latitude'], ['longitude'], ['timezone'], ['sensorunit'], ['sensorvalue'], ['sensortype'], ['sensorraw'], ['sensorname'], ['codespace'], ['tagname'], ['receiver_depth'], ['bottom_depth'], ['receiver'], ['station'], ['receiver_group'], ['detectedby'], ['datelastmodified'], ['commonname'], ['scientificname'], ['catalognumber'], ['collectioncode']] text columns in table nsbs_matched_detections_2014_v00"
       ]
      },
      {
       "output_type": "stream",
       "stream": "stdout",
       "text": [
        "\n",
        "Creating geometry column for st_setsrid_4326, identified as WKB"
       ]
      },
      {
       "output_type": "stream",
       "stream": "stdout",
       "text": [
        "\n",
        "Populating geometry column with ST_GeomFromEWKB\n",
        "File loaded successfully! Detection Count: 2681"
       ]
      },
      {
       "output_type": "stream",
       "stream": "stdout",
       "text": [
        "\n",
        "Loading complete.\n"
       ]
      }
     ],
     "prompt_number": 1
    },
    {
     "cell_type": "code",
     "collapsed": false,
     "input": [
      "# -----------------------------------------------\n",
      "#     Filtering Detections on Distance / Time\n",
      "# -----------------------------------------------\n",
      "\n",
      "# Tables created by this script are listed in : table_names. Detection, station matrix, and suspect tables.\n",
      "\n",
      "# Set all the filter_detections global settings to match what's in load_detections.\n",
      "fd.DistanceMatrix = ld.DistanceMatrix\n",
      "fd.delimiter = ld.delimiter\n",
      "fd.data_directory = ld.data_directory\n",
      "fd.detection_file = ld.detection_file\n",
      "fd.time_interval = ld.time_interval\n",
      "fd.version_id = ld.version_id\n",
      "fd.encoding = ld.encoding\n",
      "fd.quotechar = ld.quotechar\n",
      "fd.ReloadInputFile = ld.ReloadInputFile\n",
      "\n",
      "\n",
      "# If you have your own file of suspect detections, point to it here \n",
      "# and set OverrideSuspectDetectionFile to 'True':\n",
      "fd.OverrideSuspectDetectionFile = None\n",
      "# Can replace the generated Suspect Detections file with your hand-edited file of suspect detections\n",
      "fd.SuspectFile = None # '/home/sandbox/data/sandbox/My_Suspect_Detections_File.csv' \n",
      "\n",
      "fd.filterDetections()   # Wait for Out[] to say 'Filtering complete.'"
     ],
     "language": "python",
     "metadata": {},
     "outputs": [
      {
       "ename": "NameError",
       "evalue": "name 'ld' is not defined",
       "output_type": "pyerr",
       "traceback": [
        "\u001b[1;31m---------------------------------------------------------------------------\u001b[0m\n\u001b[1;31mNameError\u001b[0m                                 Traceback (most recent call last)",
        "\u001b[1;32m<ipython-input-1-4c4d91e27781>\u001b[0m in \u001b[0;36m<module>\u001b[1;34m()\u001b[0m\n\u001b[0;32m      6\u001b[0m \u001b[1;33m\u001b[0m\u001b[0m\n\u001b[0;32m      7\u001b[0m \u001b[1;31m# Set all the filter_detections global settings to match what's in load_detections.\u001b[0m\u001b[1;33m\u001b[0m\u001b[1;33m\u001b[0m\u001b[0m\n\u001b[1;32m----> 8\u001b[1;33m \u001b[0mfd\u001b[0m\u001b[1;33m.\u001b[0m\u001b[0mDistanceMatrix\u001b[0m \u001b[1;33m=\u001b[0m \u001b[0mld\u001b[0m\u001b[1;33m.\u001b[0m\u001b[0mDistanceMatrix\u001b[0m\u001b[1;33m\u001b[0m\u001b[0m\n\u001b[0m\u001b[0;32m      9\u001b[0m \u001b[0mfd\u001b[0m\u001b[1;33m.\u001b[0m\u001b[0mdelimiter\u001b[0m \u001b[1;33m=\u001b[0m \u001b[0mld\u001b[0m\u001b[1;33m.\u001b[0m\u001b[0mdelimiter\u001b[0m\u001b[1;33m\u001b[0m\u001b[0m\n\u001b[0;32m     10\u001b[0m \u001b[0mfd\u001b[0m\u001b[1;33m.\u001b[0m\u001b[0mdata_directory\u001b[0m \u001b[1;33m=\u001b[0m \u001b[0mld\u001b[0m\u001b[1;33m.\u001b[0m\u001b[0mdata_directory\u001b[0m\u001b[1;33m\u001b[0m\u001b[0m\n",
        "\u001b[1;31mNameError\u001b[0m: name 'ld' is not defined"
       ]
      }
     ],
     "prompt_number": 1
    },
    {
     "cell_type": "code",
     "collapsed": false,
     "input": [
      "# ---------------------\n",
      "#     Interval Data \n",
      "# ---------------------\n",
      "\n",
      "# Creates a compressed detections table and an interval data file\n",
      "\n",
      "import common_python.interval_data_tool as inter_data\n",
      "\n",
      "dist_matrix_file = \"%s_distance_matrix_%s.%s\" % (ld.detection_file.split('.')[0], table_names['detections'].split('_')[-1], ld.detection_file.split('.')[1])\n",
      "# Or supply your own custom dist_matrix_filename here.\n",
      "# dist_matrix_file = \"my_custom_distance_matrix_filename.csv\"\n",
      "\n",
      "inter_data.intervalData(fd.detection_file, dist_matrix_file)"
     ],
     "language": "python",
     "metadata": {},
     "outputs": [
      {
       "output_type": "stream",
       "stream": "stdout",
       "text": [
        "Verifying Detection file: 'nsbs_matched_detections_2014.csv'... "
       ]
      },
      {
       "output_type": "stream",
       "stream": "stdout",
       "text": [
        "OK!\n",
        "Verifying Distance Matrix file: 'nsbs_matched_detections_2014_distance_matrix_v00.csv'... OK!\n",
        "Loading Detection file: 'nsbs_matched_detections_2014.csv'... "
       ]
      },
      {
       "output_type": "stream",
       "stream": "stdout",
       "text": [
        "OK!\n",
        "Loading Distance Matrix file: 'nsbs_matched_detections_2014_distance_matrix_v00.csv'... OK!\n",
        "Exporting data..."
       ]
      },
      {
       "output_type": "stream",
       "stream": "stdout",
       "text": [
        "\n",
        "OK!"
       ]
      },
      {
       "output_type": "stream",
       "stream": "stdout",
       "text": [
        "\n",
        "Compressed detections exported to: nsbs_matched_detections_2014_compressed_detections_v00.csv containing 1367 records.\n",
        "Interval data exported to: nsbs_matched_detections_2014_interval_data_v00.csv containing 1367 records.\n"
       ]
      },
      {
       "metadata": {},
       "output_type": "pyout",
       "prompt_number": 7,
       "text": [
        "''"
       ]
      }
     ],
     "prompt_number": 7
    },
    {
     "cell_type": "code",
     "collapsed": false,
     "input": [
      "# ---------------------------\n",
      "#    Distance Matrix Merge\n",
      "# ---------------------------\n",
      "\n",
      "import common_python.dis_mtrx_merge as dis\n",
      "\n",
      "# Merge two Distance Matrix files, letting the duplicate pair-distance values \n",
      "\n",
      "dist_matrix_file = \"%s_distance_matrix_v00.%s\" % tuple(ld.detection_file.split('.')) # the full file that you had before\n",
      "# dist_matrix_file = 'my_custom_distance_matrix_filename.csv'\n",
      "\n",
      "# The file that has only the stations that require an overridden value for the distance between them \n",
      "# (in cases of stations with land or other obstacles between them which make a straight-line distance incorrect.\n",
      "distance_real_input = 'nsbs_matched_detections_2014_distance_matrix_v01.csv'\n",
      "\n",
      "\n",
      "dis.dis_mtx_merge('reqmerge', dist_matrix_file, distance_real_input)"
     ],
     "language": "python",
     "metadata": {},
     "outputs": [
      {
       "output_type": "stream",
       "stream": "stdout",
       "text": [
        "There are 170 records in file /home/sandbox/RStudio/sandbox/common_python/../../data/nsbs_matched_detections_2014_distance_matrix_v00.csv\n",
        "There are 166 records in file /home/sandbox/RStudio/sandbox/common_python/../../data/nsbs_matched_detections_2014_distance_matrix_v01.csv\n",
        "There is no records update in /home/sandbox/RStudio/sandbox/common_python/../../data/nsbs_matched_detections_2014_distance_matrix_v00.csv\n"
       ]
      },
      {
       "metadata": {},
       "output_type": "pyout",
       "prompt_number": 8,
       "text": [
        "'Updates complete.'"
       ]
      }
     ],
     "prompt_number": 8
    },
    {
     "cell_type": "code",
     "collapsed": false,
     "input": [
      "import shapely.wkb as wkb\n",
      "\n",
      "print wkb.loads(\"0101000020E61000007FBC57AD4C984FC054008C67D01C4640\", True)"
     ],
     "language": "python",
     "metadata": {},
     "outputs": [
      {
       "output_type": "stream",
       "stream": "stdout",
       "text": [
        "POINT (-63.18984 44.22511)\n"
       ]
      }
     ],
     "prompt_number": 5
    },
    {
     "cell_type": "code",
     "collapsed": false,
     "input": [],
     "language": "python",
     "metadata": {},
     "outputs": []
    }
   ],
   "metadata": {}
  }
 ]
}
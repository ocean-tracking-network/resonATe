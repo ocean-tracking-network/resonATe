{
 "worksheets": [
  {
   "cells": [
    {
     "cell_type": "code",
     "metadata": {},
     "outputs": [],
     "input": [
      "# ---------------------------\n",
      "#     Plot w/ Kartograph?\n",
      "# ---------------------------\n",
      "\n",
      "import kartograph\n",
      "\n",
      "# TODO: Tons of styling fixes here\n",
      "\n",
      "K = kartograph.Kartograph()\n",
      "\n",
      "#table_name = ld.table_name\n",
      "table_name = 'nsbs_matched_detections_2014_v00'  # Input the table name you would like to style here.\n",
      "\n",
      "cfg = {\n",
      "    \"proj\": {\"id\":\"mercator\",},\n",
      "    \"bounds\": { \"mode\": \"polygon\", \"data\":{\"layer\":\"dets\"}},\n",
      "    \"layers\": {\n",
      "      #  \"graticules\": { \"special\":\"graticule\", \"latitudes\":0.5, \"longitudes\":0.5}, # Lat/lon bars on the plot\n",
      "        \"background\":{\"special\":\"sea\"},\n",
      "        \"coastline\":{ \"src\": \"/home/sandbox/kartograph/ne_50m_admin_0_countries.shp\"},\n",
      "        \"dets\":{\n",
      "            \"src\": \"postgis:dbname=postgres user=postgres password=otn123\",\n",
      "            \"table\": \"%s\" % table_name , # This table must have a geometry column.\n",
      "         #   \"query\": \"catalognumber = 'NSBS-Tail Slap'\", # Can subselect by catalognumber, or any GIS attribute like this.\n",
      "        #    \"attributes\": { \"lat\":\"latitude\", \"lon\":\"longitude\", \"id\": \"unqdetectid\", \"animal\":\"catalognumber\", \"station\":\"station\"}, # This isn't working yet, but it will include all metadata with the .svg\n",
      "            \"labeling\": { \"key\": \"catalognumber\"},\n",
      "            \"export\":{    \"width\": 500,\n",
      "                          \"ratio\": 0.5\n",
      "                  },\n",
      "        }\n",
      "    }\n",
      "}\n",
      "\n",
      "print cfg\n",
      "\n",
      "\n",
      "K.generate(cfg, outfile='/home/sandbox/kartograph/%s.svg' % table_name, stylesheet=\"/home/sandbox/kartograph/styles/otn_basic_style.css\")\n",
      "print 'SVG created from configuration.'"
     ],
     "language": "python"
    },
    {
     "cell_type": "code",
     "metadata": {},
     "outputs": [],
     "input": [
      ""
     ],
     "language": "python"
    }
   ]
  }
 ],
 "cells": [],
 "metadata": {},
 "nbformat": 3,
 "nbformat_minor": 0
}
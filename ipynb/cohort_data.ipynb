{
 "metadata": {
  "name": "",
  "signature": "sha256:ace3eaf76aa2de5fb22db9bba4aa2d59aae0cab93fd18faca0968533858c2f71"
 },
 "nbformat": 3,
 "nbformat_minor": 0,
 "worksheets": [
  {
   "cells": [
    {
     "cell_type": "code",
     "collapsed": false,
     "input": [
      "%reload_ext autoreload\n",
      "%autoreload 2\n",
      "from common_python.cohorts import CohortRecords\n",
      "\n",
      "# Creates an animal cohort file using the mv_anm_compressed table"
     ],
     "language": "python",
     "metadata": {},
     "outputs": [],
     "prompt_number": 3
    },
    {
     "cell_type": "code",
     "collapsed": false,
     "input": [
      "#Set your time interval here (in minutes).\n",
      "time_interval = 60\n",
      "\n",
      "CohortRecords(time_interval)"
     ],
     "language": "python",
     "metadata": {},
     "outputs": []
    }
   ],
   "metadata": {}
  }
 ]
}
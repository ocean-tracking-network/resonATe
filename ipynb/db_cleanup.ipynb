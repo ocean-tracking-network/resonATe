{
 "metadata": {
  "name": "",
  "signature": "sha256:caa8a9b5faa4ea05df4eb790337f227835a42e2a294073a4e653662e6488a1c0"
 },
 "nbformat": 3,
 "nbformat_minor": 0,
 "worksheets": [
  {
   "cells": [
    {
     "cell_type": "code",
     "collapsed": false,
     "input": [
      "import common_python.cleanup as cln\n",
      "\n",
      "# Deletes all tables created by these scripts in the database. \n",
      "# Only run this if you're absolutely sure you don't need anything in there.\n",
      "cln.cleanup(\"reqcleanup\")\n",
      "\n",
      "# You can re-run the scripts to get your data back into these tables, of course."
     ],
     "language": "python",
     "metadata": {},
     "outputs": [
      {
       "output_type": "stream",
       "stream": "stdout",
       "text": [
        "Nothing to cleanup from database.\n"
       ]
      }
     ],
     "prompt_number": 2
    },
    {
     "cell_type": "code",
     "collapsed": false,
     "input": [],
     "language": "python",
     "metadata": {},
     "outputs": []
    }
   ],
   "metadata": {}
  }
 ]
}
{
 "metadata": {
  "name": "",
  "signature": "sha256:244c1191c58ed41a63a00763b1ff834e037f446831d72ec96bd69e7e1dcc4441"
 },
 "nbformat": 3,
 "nbformat_minor": 0,
 "worksheets": [
  {
   "cells": [
    {
     "cell_type": "code",
     "collapsed": false,
     "input": [
      "import common_python.cleanup as cln\n",
      "\n",
      "# Deletes all tables created by these scripts in the database. \n",
      "# Only run this if you're absolutely sure you don't need anything in there.\n",
      "cln.cleanup(\"reqcleanup\")\n",
      "\n",
      "# You can re-run the scripts to get your data back into these tables, of course."
     ],
     "language": "python",
     "metadata": {},
     "outputs": []
    },
    {
     "cell_type": "code",
     "collapsed": false,
     "input": [],
     "language": "python",
     "metadata": {},
     "outputs": []
    }
   ],
   "metadata": {}
  }
 ]
}
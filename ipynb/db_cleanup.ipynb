{
 "metadata": {
  "name": "",
  "signature": "sha256:6ae80bd6b46ff171525b548730d1e817563944bc8d4fe7a5be274d180dc7e22b"
 },
 "nbformat": 3,
 "nbformat_minor": 0,
 "worksheets": [
  {
   "cells": [
    {
     "cell_type": "code",
     "collapsed": false,
     "input": [
      "import common_python.cleanup as cln\n",
      "\n",
      "# Deletes all tables created by these scripts in the database. \n",
      "# Only run this if you're absolutely sure you don't need anything in there.\n",
      "cln.cleanup(\"reqcleanup\")\n",
      "\n",
      "# You can re-run the scripts to get your data back into these tables, of course."
     ],
     "language": "python",
     "metadata": {},
     "outputs": [
      {
       "output_type": "stream",
       "stream": "stdout",
       "text": [
        "The following 2 tables have been dropped from the database:\n",
        "public.duplications\n",
        "public.nsbs_matched_detections_2014_v00\n"
       ]
      }
     ],
     "prompt_number": 1
    },
    {
     "cell_type": "code",
     "collapsed": false,
     "input": [],
     "language": "python",
     "metadata": {},
     "outputs": []
    }
   ],
   "metadata": {}
  }
 ]
}
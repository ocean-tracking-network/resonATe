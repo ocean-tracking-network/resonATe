{
 "metadata": {
  "name": "",
  "signature": "sha256:e0029425c1060d1b57c16f7dbc1cf0816ac0ad9a86adcfa97cb2539d19ebb4f8"
 },
 "nbformat": 3,
 "nbformat_minor": 0,
 "worksheets": [
  {
   "cells": [
    {
     "cell_type": "code",
     "collapsed": false,
     "input": [
      "%reload_ext autoreload\n",
      "%autoreload 2\n",
      "from common_python.compress import CompressDetections\n",
      "\n",
      "# Creates the mv_anm_compressed table used in calculating the cohort records."
     ],
     "language": "python",
     "metadata": {},
     "outputs": [],
     "prompt_number": 3
    },
    {
     "cell_type": "code",
     "collapsed": false,
     "input": [
      "CompressDetections(detection_file='detections.csv',\n",
      "                       reload_detections=False)"
     ],
     "language": "python",
     "metadata": {},
     "outputs": []
    }
   ],
   "metadata": {}
  }
 ]
}
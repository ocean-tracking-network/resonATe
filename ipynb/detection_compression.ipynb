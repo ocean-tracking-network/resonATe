{
 "metadata": {
  "name": "",
  "signature": "sha256:9ed7991d3b6ca66c838031498ac1f3cfe07fb9dec4a2bff20a6f3ccd3ccbac88"
 },
 "nbformat": 3,
 "nbformat_minor": 0,
 "worksheets": [
  {
   "cells": [
    {
     "cell_type": "code",
     "collapsed": false,
     "input": [
      "# ---------------------------\n",
      "#     Compress your detections\n",
      "# ---------------------------\n",
      "\n",
      "from common_python.compress import CompressDetections\n",
      "\n",
      "# detection file (uncompressed)\n",
      "detection_file = 'detections.csv'\n",
      "\n",
      "# Runs the compression operation and exports the compressed detection file\n",
      "CompressDetections(detection_file=detection_file)"
     ],
     "language": "python",
     "metadata": {},
     "outputs": []
    },
    {
     "cell_type": "code",
     "collapsed": false,
     "input": [],
     "language": "python",
     "metadata": {},
     "outputs": []
    }
   ],
   "metadata": {}
  }
 ]
}
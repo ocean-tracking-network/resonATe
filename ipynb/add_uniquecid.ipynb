{
 "metadata": {
  "name": "",
  "signature": "sha256:3429ff03a83b447cad337375f1f524d48ca4af64feb86317ee58f992dc730881"
 },
 "nbformat": 3,
 "nbformat_minor": 0,
 "worksheets": [
  {
   "cells": [
    {
     "cell_type": "code",
     "collapsed": false,
     "input": [
      "# ----------------------------------\n",
      "#     Add an uniqdecid to your file\n",
      "# ----------------------------------\n",
      "\n",
      "from common_python.uniqueid import add_column_unqdetecid\n",
      "\n",
      "# CSV file without unqdetecid column\n",
      "input_file = 'input_file_without_unqdetecid.csv'\n",
      "\n",
      "# Creates a new file including the uniqdecid column\n",
      "add_column_unqdetecid(input_file)\n"
     ],
     "language": "python",
     "metadata": {},
     "outputs": []
    },
    {
     "cell_type": "code",
     "collapsed": false,
     "input": [],
     "language": "python",
     "metadata": {},
     "outputs": []
    }
   ],
   "metadata": {}
  }
 ]
}
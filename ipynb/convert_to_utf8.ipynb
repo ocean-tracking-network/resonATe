{
 "metadata": {
  "name": "",
  "signature": "sha256:b7ebe726f94de1891ae83611d220ce3aa52f0085675ed4ba15b3291d265635b7"
 },
 "nbformat": 3,
 "nbformat_minor": 0,
 "worksheets": [
  {
   "cells": [
    {
     "cell_type": "code",
     "collapsed": false,
     "input": [
      "# Convert the input file to UTF-8 format, to allow the rest of the scripts to read it as input.\n",
      "\n",
      "import common_python.conversion as cnvrt\n",
      "input_file = 'your_file_to_convert.csv'\n",
      "# If you know your input encoding, set it here. Otherwise the script will attempt to detect it.\n",
      "input_encoding = None\n",
      "\n",
      "cnvrt.conversion(input_file, input_encoding)"
     ],
     "language": "python",
     "metadata": {},
     "outputs": []
    }
   ],
   "metadata": {}
  }
 ]
}
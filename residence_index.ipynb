{
 "cells": [
  {
   "cell_type": "code",
   "execution_count": 1,
   "metadata": {
    "collapsed": true
   },
   "outputs": [],
   "source": [
    "from common_python import kessel_ri as ri\n",
    "import pandas as pd\n",
    "import matplotlib\n",
    "import matplotlib.pyplot as plt\n",
    "from mpl_toolkits.basemap import Basemap\n",
    "import matplotlib.cm as cm\n",
    "\n",
    "%matplotlib inline\n",
    "matplotlib.style.use('ggplot')\n",
    "\n",
    "detfile = \"v2lemera_matched_detections_2014.csv\""
   ]
  },
  {
   "cell_type": "code",
   "execution_count": null,
   "metadata": {
    "collapsed": true
   },
   "outputs": [],
   "source": [
    "def plot_ri(ri):\n",
    "    fig = plt.figure(figsize=(12,12))\n",
    "    map = Basemap(projection='merc',\n",
    "                  resolution='f',\n",
    "                  llcrnrlat=ri['latitude'].min()-0.1, urcrnrlat=ri['latitude'].max()+0.001,\n",
    "                  llcrnrlon=ri['longitude'].min()-0.001, urcrnrlon=ri['longitude'].max()+0.005)\n",
    "\n",
    "    map.drawmapboundary(fill_color='#718ea4')\n",
    "    map.fillcontinents(color='#2a7e43')\n",
    "\n",
    "    indices = [ri['residency_index']]\n",
    "\n",
    "    x,y = map(ri['longitude'].values, ri['latitude'].values)\n",
    "    ri_map = map.scatter(x, y, s=ri['residency_index']*300, c=indices, cmap=cm.Oranges)\n",
    "    ri_map.set_clim(0,1)\n",
    "    cbar = plt.colorbar()\n",
    "\n",
    "\n",
    "    plt.show()\n"
   ]
  },
  {
   "cell_type": "code",
   "execution_count": null,
   "metadata": {
    "collapsed": false
   },
   "outputs": [
    {
     "name": "stdout",
     "output_type": "stream",
     "text": [
      "Verifying detection file: 'v2lemera_matched_detections_2014.csv'... OK!\n",
      "Loading records into v2lemera_matched_detections_2014_v00, Please wait..."
     ]
    }
   ],
   "source": [
    "kessel_ri = ri.residency_index(detfile, calculation_method='kessel')"
   ]
  },
  {
   "cell_type": "code",
   "execution_count": null,
   "metadata": {
    "collapsed": true
   },
   "outputs": [],
   "source": [
    "compressed_file = \"v2lemera_matched_detections_2014_compressed_detections_v00.csv\""
   ]
  },
  {
   "cell_type": "code",
   "execution_count": null,
   "metadata": {
    "collapsed": false
   },
   "outputs": [],
   "source": [
    "timedelta_ri = ri.residency_index(compressed_file, calculation_method='timedelta')"
   ]
  },
  {
   "cell_type": "code",
   "execution_count": null,
   "metadata": {
    "collapsed": false
   },
   "outputs": [],
   "source": [
    "with_overlap_ri = ri.residency_index(compressed_file, calculation_method='aggregate_with_overlap')"
   ]
  },
  {
   "cell_type": "code",
   "execution_count": null,
   "metadata": {
    "collapsed": false
   },
   "outputs": [],
   "source": [
    "no_overlap_ri = ri.residency_index(compressed_file, calculation_method='aggregate_no_overlap')"
   ]
  },
  {
   "cell_type": "markdown",
   "metadata": {},
   "source": [
    "RI = Distinct number of days detected at a stations / Distinct number of days detect anywhere on the array."
   ]
  },
  {
   "cell_type": "code",
   "execution_count": null,
   "metadata": {
    "collapsed": false
   },
   "outputs": [],
   "source": [
    "plot_ri(kessel_ri)"
   ]
  },
  {
   "cell_type": "code",
   "execution_count": null,
   "metadata": {
    "collapsed": false
   },
   "outputs": [],
   "source": [
    "plot_ri(timedelta_ri)"
   ]
  },
  {
   "cell_type": "code",
   "execution_count": null,
   "metadata": {
    "collapsed": false
   },
   "outputs": [],
   "source": [
    "plot_ri(with_overlap_ri)"
   ]
  },
  {
   "cell_type": "code",
   "execution_count": null,
   "metadata": {
    "collapsed": false
   },
   "outputs": [],
   "source": [
    "plot_ri(no_overlap_ri)"
   ]
  },
  {
   "cell_type": "code",
   "execution_count": null,
   "metadata": {
    "collapsed": true
   },
   "outputs": [],
   "source": []
  }
 ],
 "metadata": {
  "kernelspec": {
   "display_name": "Python 2",
   "language": "python",
   "name": "python2"
  },
  "language_info": {
   "codemirror_mode": {
    "name": "ipython",
    "version": 2
   },
   "file_extension": ".py",
   "mimetype": "text/x-python",
   "name": "python",
   "nbconvert_exporter": "python",
   "pygments_lexer": "ipython2",
   "version": "2.7.11"
  }
 },
 "nbformat": 4,
 "nbformat_minor": 0
}
